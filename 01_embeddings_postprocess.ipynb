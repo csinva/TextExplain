{
 "cells": [
  {
   "cell_type": "code",
   "execution_count": null,
   "metadata": {},
   "outputs": [],
   "source": [
    "from transformers import BertModel, DistilBertModel\n",
    "from transformers import pipeline\n",
    "from transformers import AutoTokenizer, AutoModelForSequenceClassification\n",
    "import datasets\n",
    "import numpy as np\n",
    "import pickle as pkl\n",
    "import os\n",
    "from os.path import join as oj\n",
    "from spacy.lang.en import English\n",
    "import argparse\n",
    "from sklearn.feature_extraction.text import CountVectorizer, TfidfVectorizer\n",
    "from sklearn.linear_model import LogisticRegressionCV\n",
    "from collections import defaultdict\n",
    "from copy import deepcopy\n",
    "from tqdm import tqdm\n",
    "import pandas as pd\n",
    "from datasets import load_from_disk\n",
    "import sklearn\n",
    "import warnings\n",
    "import config"
   ]
  },
  {
   "cell_type": "markdown",
   "metadata": {},
   "source": [
    "We're going to aggregate embeddings run for a particular order of n-gram here (we'll just add them up)."
   ]
  },
  {
   "cell_type": "code",
   "execution_count": null,
   "metadata": {},
   "outputs": [
    {
     "name": "stderr",
     "output_type": "stream",
     "text": [
      "  0%|          | 0/42 [00:00<?, ?it/s]"
     ]
    },
    {
     "name": "stdout",
     "output_type": "stream",
     "text": [
      "Trying ngram=1_sub=-1_aatmasidha-distilbert-base-uncased-finetuned-emotion__last_hidden_state_mean\n"
     ]
    },
    {
     "name": "stderr",
     "output_type": "stream",
     "text": [
      "  2%|▏         | 1/42 [00:16<10:59, 16.09s/it]"
     ]
    },
    {
     "name": "stdout",
     "output_type": "stream",
     "text": [
      "\tsuccess!\n",
      "Trying ngram=1_sub=-1_bert-base-uncased\n",
      "\tdone already!\n",
      "Trying ngram=1_sub=-1_bert-base-uncased__last_hidden_state_mean\n"
     ]
    },
    {
     "name": "stderr",
     "output_type": "stream",
     "text": [
      "  7%|▋         | 3/42 [00:32<06:35, 10.15s/it]"
     ]
    },
    {
     "name": "stdout",
     "output_type": "stream",
     "text": [
      "\tsuccess!\n",
      "Trying ngram=1_sub=-1_distilbert-base-uncased__last_hidden_state_mean\n"
     ]
    },
    {
     "name": "stderr",
     "output_type": "stream",
     "text": [
      " 10%|▉         | 4/42 [00:48<07:41, 12.16s/it]"
     ]
    },
    {
     "name": "stdout",
     "output_type": "stream",
     "text": [
      "\tsuccess!\n",
      "Trying ngram=1_sub=-1_nateraw-bert-base-uncased-emotion\n",
      "\tdone already!\n",
      "Trying ngram=1_sub=-1_nateraw-bert-base-uncased-emotion__last_hidden_state_mean\n"
     ]
    },
    {
     "name": "stderr",
     "output_type": "stream",
     "text": [
      " 14%|█▍        | 6/42 [01:04<06:04, 10.12s/it]"
     ]
    },
    {
     "name": "stdout",
     "output_type": "stream",
     "text": [
      "\tsuccess!\n",
      "Trying ngram=2_sub=-1_aatmasidha-distilbert-base-uncased-finetuned-emotion__last_hidden_state_mean\n"
     ]
    },
    {
     "name": "stderr",
     "output_type": "stream",
     "text": [
      " 17%|█▋        | 7/42 [01:27<07:53, 13.53s/it]"
     ]
    },
    {
     "name": "stdout",
     "output_type": "stream",
     "text": [
      "\tsuccess!\n",
      "Trying ngram=2_sub=-1_bert-base-uncased\n",
      "\tdone already!\n",
      "Trying ngram=2_sub=-1_bert-base-uncased__last_hidden_state_mean\n"
     ]
    },
    {
     "name": "stderr",
     "output_type": "stream",
     "text": [
      " 21%|██▏       | 9/42 [01:50<07:01, 12.78s/it]"
     ]
    },
    {
     "name": "stdout",
     "output_type": "stream",
     "text": [
      "\tsuccess!\n",
      "Trying ngram=2_sub=-1_distilbert-base-uncased__last_hidden_state_mean\n"
     ]
    },
    {
     "name": "stderr",
     "output_type": "stream",
     "text": [
      " 24%|██▍       | 10/42 [02:14<08:09, 15.29s/it]"
     ]
    },
    {
     "name": "stdout",
     "output_type": "stream",
     "text": [
      "\tsuccess!\n",
      "Trying ngram=2_sub=-1_nateraw-bert-base-uncased-emotion\n",
      "\tdone already!\n",
      "Trying ngram=2_sub=-1_nateraw-bert-base-uncased-emotion__last_hidden_state_mean\n"
     ]
    },
    {
     "name": "stderr",
     "output_type": "stream",
     "text": [
      " 29%|██▊       | 12/42 [02:37<06:55, 13.83s/it]"
     ]
    },
    {
     "name": "stdout",
     "output_type": "stream",
     "text": [
      "\tsuccess!\n",
      "Trying ngram=3_sub=-1_aatmasidha-distilbert-base-uncased-finetuned-emotion__last_hidden_state_mean\n"
     ]
    },
    {
     "name": "stderr",
     "output_type": "stream",
     "text": [
      " 31%|███       | 13/42 [03:08<08:27, 17.51s/it]"
     ]
    },
    {
     "name": "stdout",
     "output_type": "stream",
     "text": [
      "\tsuccess!\n",
      "Trying ngram=3_sub=-1_bert-base-uncased\n",
      "\tdone already!\n",
      "Trying ngram=3_sub=-1_bert-base-uncased__last_hidden_state_mean\n"
     ]
    },
    {
     "name": "stderr",
     "output_type": "stream",
     "text": [
      " 36%|███▌      | 15/42 [03:38<07:29, 16.65s/it]"
     ]
    },
    {
     "name": "stdout",
     "output_type": "stream",
     "text": [
      "\tsuccess!\n",
      "Trying ngram=3_sub=-1_distilbert-base-uncased__last_hidden_state_mean\n"
     ]
    },
    {
     "name": "stderr",
     "output_type": "stream",
     "text": [
      " 38%|███▊      | 16/42 [04:09<08:33, 19.73s/it]"
     ]
    },
    {
     "name": "stdout",
     "output_type": "stream",
     "text": [
      "\tsuccess!\n",
      "Trying ngram=3_sub=-1_nateraw-bert-base-uncased-emotion\n",
      "\tdone already!\n",
      "Trying ngram=3_sub=-1_nateraw-bert-base-uncased-emotion__last_hidden_state_mean\n"
     ]
    },
    {
     "name": "stderr",
     "output_type": "stream",
     "text": [
      " 43%|████▎     | 18/42 [04:40<07:12, 18.03s/it]"
     ]
    },
    {
     "name": "stdout",
     "output_type": "stream",
     "text": [
      "\tsuccess!\n",
      "Trying ngram=4_sub=-1_aatmasidha-distilbert-base-uncased-finetuned-emotion__last_hidden_state_mean\n"
     ]
    },
    {
     "name": "stderr",
     "output_type": "stream",
     "text": [
      " 45%|████▌     | 19/42 [05:17<08:31, 22.26s/it]"
     ]
    },
    {
     "name": "stdout",
     "output_type": "stream",
     "text": [
      "\tsuccess!\n",
      "Trying ngram=4_sub=-1_bert-base-uncased\n",
      "\tdone already!\n",
      "Trying ngram=4_sub=-1_bert-base-uncased__last_hidden_state_mean\n"
     ]
    },
    {
     "name": "stderr",
     "output_type": "stream",
     "text": [
      " 50%|█████     | 21/42 [05:56<07:22, 21.06s/it]"
     ]
    },
    {
     "name": "stdout",
     "output_type": "stream",
     "text": [
      "\tsuccess!\n",
      "Trying ngram=4_sub=-1_distilbert-base-uncased__last_hidden_state_mean\n"
     ]
    },
    {
     "name": "stderr",
     "output_type": "stream",
     "text": [
      " 52%|█████▏    | 22/42 [06:33<08:12, 24.63s/it]"
     ]
    },
    {
     "name": "stdout",
     "output_type": "stream",
     "text": [
      "\tsuccess!\n",
      "Trying ngram=4_sub=-1_nateraw-bert-base-uncased-emotion\n",
      "\tdone already!\n",
      "Trying ngram=4_sub=-1_nateraw-bert-base-uncased-emotion__last_hidden_state_mean\n"
     ]
    },
    {
     "name": "stderr",
     "output_type": "stream",
     "text": [
      " 57%|█████▋    | 24/42 [07:11<06:44, 22.46s/it]"
     ]
    },
    {
     "name": "stdout",
     "output_type": "stream",
     "text": [
      "\tsuccess!\n",
      "Trying ngram=5_sub=-1_aatmasidha-distilbert-base-uncased-finetuned-emotion__last_hidden_state_mean\n"
     ]
    },
    {
     "name": "stderr",
     "output_type": "stream",
     "text": [
      " 60%|█████▉    | 25/42 [07:56<07:43, 27.26s/it]"
     ]
    },
    {
     "name": "stdout",
     "output_type": "stream",
     "text": [
      "\tsuccess!\n",
      "Trying ngram=5_sub=-1_bert-base-uncased\n",
      "\tdone already!\n",
      "Trying ngram=5_sub=-1_bert-base-uncased__last_hidden_state_mean\n"
     ]
    },
    {
     "name": "stderr",
     "output_type": "stream",
     "text": [
      " 64%|██████▍   | 27/42 [08:42<06:23, 25.54s/it]"
     ]
    },
    {
     "name": "stdout",
     "output_type": "stream",
     "text": [
      "\tsuccess!\n",
      "Trying ngram=5_sub=-1_distilbert-base-uncased__last_hidden_state_mean\n"
     ]
    },
    {
     "name": "stderr",
     "output_type": "stream",
     "text": [
      " 67%|██████▋   | 28/42 [09:27<06:56, 29.76s/it]"
     ]
    },
    {
     "name": "stdout",
     "output_type": "stream",
     "text": [
      "\tsuccess!\n",
      "Trying ngram=5_sub=-1_nateraw-bert-base-uncased-emotion\n",
      "\tdone already!\n",
      "Trying ngram=5_sub=-1_nateraw-bert-base-uncased-emotion__last_hidden_state_mean\n"
     ]
    },
    {
     "name": "stderr",
     "output_type": "stream",
     "text": [
      " 71%|███████▏  | 30/42 [10:12<05:24, 27.08s/it]"
     ]
    },
    {
     "name": "stdout",
     "output_type": "stream",
     "text": [
      "\tsuccess!\n",
      "Trying ngram=6_sub=-1_aatmasidha-distilbert-base-uncased-finetuned-emotion__last_hidden_state_mean\n"
     ]
    },
    {
     "name": "stderr",
     "output_type": "stream",
     "text": [
      " 74%|███████▍  | 31/42 [11:05<05:57, 32.52s/it]"
     ]
    },
    {
     "name": "stdout",
     "output_type": "stream",
     "text": [
      "\tsuccess!\n",
      "Trying ngram=6_sub=-1_bert-base-uncased\n",
      "\tdone already!\n",
      "Trying ngram=6_sub=-1_bert-base-uncased__last_hidden_state_mean\n"
     ]
    },
    {
     "name": "stderr",
     "output_type": "stream",
     "text": [
      " 79%|███████▊  | 33/42 [11:57<04:31, 30.12s/it]"
     ]
    },
    {
     "name": "stdout",
     "output_type": "stream",
     "text": [
      "\tsuccess!\n",
      "Trying ngram=6_sub=-1_distilbert-base-uncased__last_hidden_state_mean\n"
     ]
    },
    {
     "name": "stderr",
     "output_type": "stream",
     "text": [
      " 81%|████████  | 34/42 [12:50<04:38, 34.83s/it]"
     ]
    },
    {
     "name": "stdout",
     "output_type": "stream",
     "text": [
      "\tsuccess!\n",
      "Trying ngram=6_sub=-1_nateraw-bert-base-uncased-emotion\n",
      "\tdone already!\n",
      "Trying ngram=6_sub=-1_nateraw-bert-base-uncased-emotion__last_hidden_state_mean\n"
     ]
    },
    {
     "name": "stderr",
     "output_type": "stream",
     "text": [
      " 86%|████████▌ | 36/42 [13:42<03:09, 31.57s/it]"
     ]
    },
    {
     "name": "stdout",
     "output_type": "stream",
     "text": [
      "\tsuccess!\n",
      "Trying ngram=7_sub=-1_aatmasidha-distilbert-base-uncased-finetuned-emotion__last_hidden_state_mean\n"
     ]
    },
    {
     "name": "stderr",
     "output_type": "stream",
     "text": [
      " 88%|████████▊ | 37/42 [14:42<03:07, 37.54s/it]"
     ]
    },
    {
     "name": "stdout",
     "output_type": "stream",
     "text": [
      "\tsuccess!\n",
      "Trying ngram=7_sub=-1_bert-base-uncased\n",
      "\tdone already!\n",
      "Trying ngram=7_sub=-1_bert-base-uncased__last_hidden_state_mean\n"
     ]
    },
    {
     "name": "stderr",
     "output_type": "stream",
     "text": [
      " 93%|█████████▎| 39/42 [15:41<01:43, 34.62s/it]"
     ]
    },
    {
     "name": "stdout",
     "output_type": "stream",
     "text": [
      "\tsuccess!\n",
      "Trying ngram=7_sub=-1_distilbert-base-uncased__last_hidden_state_mean\n"
     ]
    },
    {
     "name": "stderr",
     "output_type": "stream",
     "text": [
      " 95%|█████████▌| 40/42 [16:41<01:20, 40.03s/it]"
     ]
    },
    {
     "name": "stdout",
     "output_type": "stream",
     "text": [
      "\tsuccess!\n",
      "Trying ngram=7_sub=-1_nateraw-bert-base-uncased-emotion\n",
      "\tdone already!\n",
      "Trying ngram=7_sub=-1_nateraw-bert-base-uncased-emotion__last_hidden_state_mean\n"
     ]
    },
    {
     "name": "stderr",
     "output_type": "stream",
     "text": [
      "100%|██████████| 42/42 [17:41<00:00, 25.28s/it]\n"
     ]
    },
    {
     "name": "stdout",
     "output_type": "stream",
     "text": [
      "\tsuccess!\n"
     ]
    },
    {
     "name": "stderr",
     "output_type": "stream",
     "text": [
      "  0%|          | 0/42 [00:00<?, ?it/s]"
     ]
    },
    {
     "name": "stdout",
     "output_type": "stream",
     "text": [
      "Trying ngram=1_sub=-1_ahmedrachid-FinancialBERT-Sentiment-Analysis\n",
      "\tdone already!\n",
      "Trying ngram=1_sub=-1_ahmedrachid-FinancialBERT-Sentiment-Analysis__last_hidden_state_mean\n"
     ]
    },
    {
     "name": "stderr",
     "output_type": "stream",
     "text": [
      "  5%|▍         | 2/42 [00:03<01:02,  1.56s/it]"
     ]
    },
    {
     "name": "stdout",
     "output_type": "stream",
     "text": [
      "\tsuccess!\n",
      "Trying ngram=1_sub=-1_bert-base-uncased\n",
      "\tdone already!\n",
      "Trying ngram=1_sub=-1_bert-base-uncased__last_hidden_state_mean\n"
     ]
    },
    {
     "name": "stderr",
     "output_type": "stream",
     "text": [
      " 10%|▉         | 4/42 [00:06<00:58,  1.55s/it]"
     ]
    },
    {
     "name": "stdout",
     "output_type": "stream",
     "text": [
      "\tsuccess!\n",
      "Trying ngram=1_sub=-1_distilbert-base-uncased__last_hidden_state_mean\n"
     ]
    },
    {
     "name": "stderr",
     "output_type": "stream",
     "text": [
      " 12%|█▏        | 5/42 [00:09<01:13,  1.99s/it]"
     ]
    },
    {
     "name": "stdout",
     "output_type": "stream",
     "text": [
      "\tsuccess!\n",
      "Trying ngram=1_sub=-1_yseop-distilbert-base-financial-relation-extraction__last_hidden_state_mean\n"
     ]
    },
    {
     "name": "stderr",
     "output_type": "stream",
     "text": [
      " 14%|█▍        | 6/42 [00:12<01:22,  2.29s/it]"
     ]
    },
    {
     "name": "stdout",
     "output_type": "stream",
     "text": [
      "\tsuccess!\n",
      "Trying ngram=2_sub=-1_ahmedrachid-FinancialBERT-Sentiment-Analysis\n",
      "\tdone already!\n",
      "Trying ngram=2_sub=-1_ahmedrachid-FinancialBERT-Sentiment-Analysis__last_hidden_state_mean\n"
     ]
    },
    {
     "name": "stderr",
     "output_type": "stream",
     "text": [
      " 19%|█▉        | 8/42 [00:16<01:16,  2.25s/it]"
     ]
    },
    {
     "name": "stdout",
     "output_type": "stream",
     "text": [
      "\tsuccess!\n",
      "Trying ngram=2_sub=-1_bert-base-uncased\n",
      "\tdone already!\n",
      "Trying ngram=2_sub=-1_bert-base-uncased__last_hidden_state_mean\n"
     ]
    },
    {
     "name": "stderr",
     "output_type": "stream",
     "text": [
      " 24%|██▍       | 10/42 [00:21<01:11,  2.23s/it]"
     ]
    },
    {
     "name": "stdout",
     "output_type": "stream",
     "text": [
      "\tsuccess!\n",
      "Trying ngram=2_sub=-1_distilbert-base-uncased__last_hidden_state_mean\n"
     ]
    },
    {
     "name": "stderr",
     "output_type": "stream",
     "text": [
      " 26%|██▌       | 11/42 [00:25<01:23,  2.70s/it]"
     ]
    },
    {
     "name": "stdout",
     "output_type": "stream",
     "text": [
      "\tsuccess!\n",
      "Trying ngram=2_sub=-1_yseop-distilbert-base-financial-relation-extraction__last_hidden_state_mean\n"
     ]
    },
    {
     "name": "stderr",
     "output_type": "stream",
     "text": [
      " 29%|██▊       | 12/42 [00:29<01:32,  3.10s/it]"
     ]
    },
    {
     "name": "stdout",
     "output_type": "stream",
     "text": [
      "\tsuccess!\n",
      "Trying ngram=3_sub=-1_ahmedrachid-FinancialBERT-Sentiment-Analysis\n",
      "\tdone already!\n",
      "Trying ngram=3_sub=-1_ahmedrachid-FinancialBERT-Sentiment-Analysis__last_hidden_state_mean\n"
     ]
    },
    {
     "name": "stderr",
     "output_type": "stream",
     "text": [
      " 33%|███▎      | 14/42 [00:35<01:24,  3.02s/it]"
     ]
    },
    {
     "name": "stdout",
     "output_type": "stream",
     "text": [
      "\tsuccess!\n",
      "Trying ngram=3_sub=-1_bert-base-uncased\n",
      "\tdone already!\n",
      "Trying ngram=3_sub=-1_bert-base-uncased__last_hidden_state_mean\n"
     ]
    },
    {
     "name": "stderr",
     "output_type": "stream",
     "text": [
      " 38%|███▊      | 16/42 [00:41<01:17,  2.98s/it]"
     ]
    },
    {
     "name": "stdout",
     "output_type": "stream",
     "text": [
      "\tsuccess!\n",
      "Trying ngram=3_sub=-1_distilbert-base-uncased__last_hidden_state_mean\n"
     ]
    },
    {
     "name": "stderr",
     "output_type": "stream",
     "text": [
      " 40%|████      | 17/42 [00:47<01:29,  3.57s/it]"
     ]
    },
    {
     "name": "stdout",
     "output_type": "stream",
     "text": [
      "\tsuccess!\n",
      "Trying ngram=3_sub=-1_yseop-distilbert-base-financial-relation-extraction__last_hidden_state_mean\n"
     ]
    },
    {
     "name": "stderr",
     "output_type": "stream",
     "text": [
      " 43%|████▎     | 18/42 [00:53<01:38,  4.09s/it]"
     ]
    },
    {
     "name": "stdout",
     "output_type": "stream",
     "text": [
      "\tsuccess!\n",
      "Trying ngram=4_sub=-1_ahmedrachid-FinancialBERT-Sentiment-Analysis\n",
      "\tdone already!\n",
      "Trying ngram=4_sub=-1_ahmedrachid-FinancialBERT-Sentiment-Analysis__last_hidden_state_mean\n"
     ]
    },
    {
     "name": "stderr",
     "output_type": "stream",
     "text": [
      " 48%|████▊     | 20/42 [01:00<01:25,  3.89s/it]"
     ]
    },
    {
     "name": "stdout",
     "output_type": "stream",
     "text": [
      "\tsuccess!\n",
      "Trying ngram=4_sub=-1_bert-base-uncased\n",
      "\tdone already!\n",
      "Trying ngram=4_sub=-1_bert-base-uncased__last_hidden_state_mean\n"
     ]
    },
    {
     "name": "stderr",
     "output_type": "stream",
     "text": [
      " 52%|█████▏    | 22/42 [01:07<01:15,  3.79s/it]"
     ]
    },
    {
     "name": "stdout",
     "output_type": "stream",
     "text": [
      "\tsuccess!\n",
      "Trying ngram=4_sub=-1_distilbert-base-uncased__last_hidden_state_mean\n"
     ]
    },
    {
     "name": "stderr",
     "output_type": "stream",
     "text": [
      " 55%|█████▍    | 23/42 [01:14<01:25,  4.49s/it]"
     ]
    },
    {
     "name": "stdout",
     "output_type": "stream",
     "text": [
      "\tsuccess!\n",
      "Trying ngram=4_sub=-1_yseop-distilbert-base-financial-relation-extraction__last_hidden_state_mean\n"
     ]
    },
    {
     "name": "stderr",
     "output_type": "stream",
     "text": [
      " 57%|█████▋    | 24/42 [01:21<01:31,  5.09s/it]"
     ]
    },
    {
     "name": "stdout",
     "output_type": "stream",
     "text": [
      "\tsuccess!\n",
      "Trying ngram=5_sub=-1_ahmedrachid-FinancialBERT-Sentiment-Analysis\n",
      "\tdone already!\n",
      "Trying ngram=5_sub=-1_ahmedrachid-FinancialBERT-Sentiment-Analysis__last_hidden_state_mean\n"
     ]
    },
    {
     "name": "stderr",
     "output_type": "stream",
     "text": [
      " 62%|██████▏   | 26/42 [01:30<01:16,  4.76s/it]"
     ]
    },
    {
     "name": "stdout",
     "output_type": "stream",
     "text": [
      "\tsuccess!\n",
      "Trying ngram=5_sub=-1_bert-base-uncased\n",
      "\tdone already!\n",
      "Trying ngram=5_sub=-1_bert-base-uncased__last_hidden_state_mean\n"
     ]
    },
    {
     "name": "stderr",
     "output_type": "stream",
     "text": [
      " 67%|██████▋   | 28/42 [01:38<01:04,  4.59s/it]"
     ]
    },
    {
     "name": "stdout",
     "output_type": "stream",
     "text": [
      "\tsuccess!\n",
      "Trying ngram=5_sub=-1_distilbert-base-uncased__last_hidden_state_mean\n"
     ]
    },
    {
     "name": "stderr",
     "output_type": "stream",
     "text": [
      " 69%|██████▉   | 29/42 [01:47<01:10,  5.42s/it]"
     ]
    },
    {
     "name": "stdout",
     "output_type": "stream",
     "text": [
      "\tsuccess!\n",
      "Trying ngram=5_sub=-1_yseop-distilbert-base-financial-relation-extraction__last_hidden_state_mean\n"
     ]
    },
    {
     "name": "stderr",
     "output_type": "stream",
     "text": [
      " 71%|███████▏  | 30/42 [01:56<01:13,  6.12s/it]"
     ]
    },
    {
     "name": "stdout",
     "output_type": "stream",
     "text": [
      "\tsuccess!\n",
      "Trying ngram=6_sub=-1_ahmedrachid-FinancialBERT-Sentiment-Analysis\n",
      "\tdone already!\n",
      "Trying ngram=6_sub=-1_ahmedrachid-FinancialBERT-Sentiment-Analysis__last_hidden_state_mean\n"
     ]
    },
    {
     "name": "stderr",
     "output_type": "stream",
     "text": [
      " 76%|███████▌  | 32/42 [02:06<00:56,  5.67s/it]"
     ]
    },
    {
     "name": "stdout",
     "output_type": "stream",
     "text": [
      "\tsuccess!\n",
      "Trying ngram=6_sub=-1_bert-base-uncased\n",
      "\tdone already!\n",
      "Trying ngram=6_sub=-1_bert-base-uncased__last_hidden_state_mean\n"
     ]
    },
    {
     "name": "stderr",
     "output_type": "stream",
     "text": [
      " 81%|████████  | 34/42 [02:15<00:43,  5.40s/it]"
     ]
    },
    {
     "name": "stdout",
     "output_type": "stream",
     "text": [
      "\tsuccess!\n",
      "Trying ngram=6_sub=-1_distilbert-base-uncased__last_hidden_state_mean\n"
     ]
    },
    {
     "name": "stderr",
     "output_type": "stream",
     "text": [
      " 83%|████████▎ | 35/42 [02:25<00:44,  6.31s/it]"
     ]
    },
    {
     "name": "stdout",
     "output_type": "stream",
     "text": [
      "\tsuccess!\n",
      "Trying ngram=6_sub=-1_yseop-distilbert-base-financial-relation-extraction__last_hidden_state_mean\n"
     ]
    },
    {
     "name": "stderr",
     "output_type": "stream",
     "text": [
      " 86%|████████▌ | 36/42 [02:35<00:42,  7.12s/it]"
     ]
    },
    {
     "name": "stdout",
     "output_type": "stream",
     "text": [
      "\tsuccess!\n",
      "Trying ngram=7_sub=-1_ahmedrachid-FinancialBERT-Sentiment-Analysis\n",
      "\tdone already!\n",
      "Trying ngram=7_sub=-1_ahmedrachid-FinancialBERT-Sentiment-Analysis__last_hidden_state_mean\n"
     ]
    },
    {
     "name": "stderr",
     "output_type": "stream",
     "text": [
      " 90%|█████████ | 38/42 [02:46<00:26,  6.54s/it]"
     ]
    },
    {
     "name": "stdout",
     "output_type": "stream",
     "text": [
      "\tsuccess!\n",
      "Trying ngram=7_sub=-1_bert-base-uncased\n",
      "\tdone already!\n",
      "Trying ngram=7_sub=-1_bert-base-uncased__last_hidden_state_mean\n"
     ]
    },
    {
     "name": "stderr",
     "output_type": "stream",
     "text": [
      " 95%|█████████▌| 40/42 [02:58<00:12,  6.23s/it]"
     ]
    },
    {
     "name": "stdout",
     "output_type": "stream",
     "text": [
      "\tsuccess!\n",
      "Trying ngram=7_sub=-1_distilbert-base-uncased__last_hidden_state_mean\n"
     ]
    },
    {
     "name": "stderr",
     "output_type": "stream",
     "text": [
      " 98%|█████████▊| 41/42 [03:09<00:07,  7.29s/it]"
     ]
    },
    {
     "name": "stdout",
     "output_type": "stream",
     "text": [
      "\tsuccess!\n",
      "Trying ngram=7_sub=-1_yseop-distilbert-base-financial-relation-extraction__last_hidden_state_mean\n"
     ]
    },
    {
     "name": "stderr",
     "output_type": "stream",
     "text": [
      "100%|██████████| 42/42 [03:20<00:00,  4.78s/it]\n"
     ]
    },
    {
     "name": "stdout",
     "output_type": "stream",
     "text": [
      "\tsuccess!\n"
     ]
    },
    {
     "name": "stderr",
     "output_type": "stream",
     "text": [
      "100%|██████████| 2/2 [00:00<00:00, 9436.00it/s]\n"
     ]
    },
    {
     "name": "stdout",
     "output_type": "stream",
     "text": [
      "Trying ngram=1_sub=-1_textattack-bert-base-uncased-imdb\n",
      "\tdone already!\n",
      "Trying ngram=2_sub=-1_textattack-bert-base-uncased-imdb\n",
      "\tdone already!\n"
     ]
    },
    {
     "name": "stderr",
     "output_type": "stream",
     "text": [
      "  0%|          | 0/42 [00:00<?, ?it/s]"
     ]
    },
    {
     "name": "stdout",
     "output_type": "stream",
     "text": [
      "Trying ngram=1_sub=-1_bert-base-uncased\n",
      "\tdone already!\n",
      "Trying ngram=1_sub=-1_bert-base-uncased__last_hidden_state_mean\n"
     ]
    },
    {
     "name": "stderr",
     "output_type": "stream",
     "text": [
      "  5%|▍         | 2/42 [00:08<02:48,  4.22s/it]"
     ]
    },
    {
     "name": "stdout",
     "output_type": "stream",
     "text": [
      "\tsuccess!\n",
      "Trying ngram=1_sub=-1_distilbert-base-uncased__last_hidden_state_mean\n"
     ]
    },
    {
     "name": "stderr",
     "output_type": "stream",
     "text": [
      "  7%|▋         | 3/42 [00:16<03:52,  5.96s/it]"
     ]
    },
    {
     "name": "stdout",
     "output_type": "stream",
     "text": [
      "\tsuccess!\n",
      "Trying ngram=1_sub=-1_textattack-bert-base-uncased-rotten_tomatoes\n",
      "\tdone already!\n",
      "Trying ngram=1_sub=-1_textattack-bert-base-uncased-rotten_tomatoes__last_hidden_state_mean\n"
     ]
    },
    {
     "name": "stderr",
     "output_type": "stream",
     "text": [
      " 12%|█▏        | 5/42 [00:25<03:05,  5.00s/it]"
     ]
    },
    {
     "name": "stdout",
     "output_type": "stream",
     "text": [
      "\tsuccess!\n",
      "Trying ngram=1_sub=-1_textattack-distilbert-base-uncased-rotten-tomatoes__last_hidden_state_mean\n"
     ]
    },
    {
     "name": "stderr",
     "output_type": "stream",
     "text": [
      " 14%|█▍        | 6/42 [00:33<03:37,  6.05s/it]"
     ]
    },
    {
     "name": "stdout",
     "output_type": "stream",
     "text": [
      "\tsuccess!\n",
      "Trying ngram=2_sub=-1_bert-base-uncased\n",
      "\tdone already!\n",
      "Trying ngram=2_sub=-1_bert-base-uncased__last_hidden_state_mean\n"
     ]
    },
    {
     "name": "stderr",
     "output_type": "stream",
     "text": [
      " 19%|█▉        | 8/42 [00:46<03:29,  6.15s/it]"
     ]
    },
    {
     "name": "stdout",
     "output_type": "stream",
     "text": [
      "\tsuccess!\n",
      "Trying ngram=2_sub=-1_distilbert-base-uncased__last_hidden_state_mean\n"
     ]
    },
    {
     "name": "stderr",
     "output_type": "stream",
     "text": [
      " 21%|██▏       | 9/42 [00:58<04:11,  7.63s/it]"
     ]
    },
    {
     "name": "stdout",
     "output_type": "stream",
     "text": [
      "\tsuccess!\n",
      "Trying ngram=2_sub=-1_textattack-bert-base-uncased-rotten_tomatoes\n",
      "\tdone already!\n",
      "Trying ngram=2_sub=-1_textattack-bert-base-uncased-rotten_tomatoes__last_hidden_state_mean\n"
     ]
    },
    {
     "name": "stderr",
     "output_type": "stream",
     "text": [
      " 26%|██▌       | 11/42 [01:11<03:38,  7.06s/it]"
     ]
    },
    {
     "name": "stdout",
     "output_type": "stream",
     "text": [
      "\tsuccess!\n",
      "Trying ngram=2_sub=-1_textattack-distilbert-base-uncased-rotten-tomatoes__last_hidden_state_mean\n"
     ]
    },
    {
     "name": "stderr",
     "output_type": "stream",
     "text": [
      " 29%|██▊       | 12/42 [01:23<04:07,  8.24s/it]"
     ]
    },
    {
     "name": "stdout",
     "output_type": "stream",
     "text": [
      "\tsuccess!\n",
      "Trying ngram=3_sub=-1_bert-base-uncased\n",
      "\tdone already!\n",
      "Trying ngram=3_sub=-1_bert-base-uncased__last_hidden_state_mean\n"
     ]
    },
    {
     "name": "stderr",
     "output_type": "stream",
     "text": [
      " 33%|███▎      | 14/42 [01:39<03:49,  8.19s/it]"
     ]
    },
    {
     "name": "stdout",
     "output_type": "stream",
     "text": [
      "\tsuccess!\n",
      "Trying ngram=3_sub=-1_distilbert-base-uncased__last_hidden_state_mean\n"
     ]
    },
    {
     "name": "stderr",
     "output_type": "stream",
     "text": [
      " 36%|███▌      | 15/42 [01:56<04:29,  9.97s/it]"
     ]
    },
    {
     "name": "stdout",
     "output_type": "stream",
     "text": [
      "\tsuccess!\n",
      "Trying ngram=3_sub=-1_textattack-bert-base-uncased-rotten_tomatoes\n",
      "\tdone already!\n",
      "Trying ngram=3_sub=-1_textattack-bert-base-uncased-rotten_tomatoes__last_hidden_state_mean\n"
     ]
    },
    {
     "name": "stderr",
     "output_type": "stream",
     "text": [
      " 40%|████      | 17/42 [02:12<03:50,  9.23s/it]"
     ]
    },
    {
     "name": "stdout",
     "output_type": "stream",
     "text": [
      "\tsuccess!\n",
      "Trying ngram=3_sub=-1_textattack-distilbert-base-uncased-rotten-tomatoes__last_hidden_state_mean\n"
     ]
    },
    {
     "name": "stderr",
     "output_type": "stream",
     "text": [
      " 43%|████▎     | 18/42 [02:28<04:18, 10.77s/it]"
     ]
    },
    {
     "name": "stdout",
     "output_type": "stream",
     "text": [
      "\tsuccess!\n",
      "Trying ngram=4_sub=-1_bert-base-uncased\n",
      "\tdone already!\n",
      "Trying ngram=4_sub=-1_bert-base-uncased__last_hidden_state_mean\n"
     ]
    },
    {
     "name": "stderr",
     "output_type": "stream",
     "text": [
      " 48%|████▊     | 20/42 [02:48<03:50, 10.46s/it]"
     ]
    },
    {
     "name": "stdout",
     "output_type": "stream",
     "text": [
      "\tsuccess!\n",
      "Trying ngram=4_sub=-1_distilbert-base-uncased__last_hidden_state_mean\n"
     ]
    },
    {
     "name": "stderr",
     "output_type": "stream",
     "text": [
      " 50%|█████     | 21/42 [03:08<04:23, 12.53s/it]"
     ]
    },
    {
     "name": "stdout",
     "output_type": "stream",
     "text": [
      "\tsuccess!\n",
      "Trying ngram=4_sub=-1_textattack-bert-base-uncased-rotten_tomatoes\n",
      "\tdone already!\n",
      "Trying ngram=4_sub=-1_textattack-bert-base-uncased-rotten_tomatoes__last_hidden_state_mean\n"
     ]
    },
    {
     "name": "stderr",
     "output_type": "stream",
     "text": [
      " 55%|█████▍    | 23/42 [03:28<03:39, 11.55s/it]"
     ]
    },
    {
     "name": "stdout",
     "output_type": "stream",
     "text": [
      "\tsuccess!\n",
      "Trying ngram=4_sub=-1_textattack-distilbert-base-uncased-rotten-tomatoes__last_hidden_state_mean\n"
     ]
    },
    {
     "name": "stderr",
     "output_type": "stream",
     "text": [
      " 57%|█████▋    | 24/42 [03:48<04:01, 13.41s/it]"
     ]
    },
    {
     "name": "stdout",
     "output_type": "stream",
     "text": [
      "\tsuccess!\n",
      "Trying ngram=5_sub=-1_bert-base-uncased\n",
      "\tdone already!\n",
      "Trying ngram=5_sub=-1_bert-base-uncased__last_hidden_state_mean\n"
     ]
    },
    {
     "name": "stderr",
     "output_type": "stream",
     "text": [
      " 62%|██████▏   | 26/42 [04:12<03:25, 12.83s/it]"
     ]
    },
    {
     "name": "stdout",
     "output_type": "stream",
     "text": [
      "\tsuccess!\n",
      "Trying ngram=5_sub=-1_distilbert-base-uncased__last_hidden_state_mean\n"
     ]
    },
    {
     "name": "stderr",
     "output_type": "stream",
     "text": [
      " 64%|██████▍   | 27/42 [04:36<03:48, 15.22s/it]"
     ]
    },
    {
     "name": "stdout",
     "output_type": "stream",
     "text": [
      "\tsuccess!\n",
      "Trying ngram=5_sub=-1_textattack-bert-base-uncased-rotten_tomatoes\n",
      "\tdone already!\n",
      "Trying ngram=5_sub=-1_textattack-bert-base-uncased-rotten_tomatoes__last_hidden_state_mean\n"
     ]
    },
    {
     "name": "stderr",
     "output_type": "stream",
     "text": [
      " 69%|██████▉   | 29/42 [05:00<03:02, 14.00s/it]"
     ]
    },
    {
     "name": "stdout",
     "output_type": "stream",
     "text": [
      "\tsuccess!\n",
      "Trying ngram=5_sub=-1_textattack-distilbert-base-uncased-rotten-tomatoes__last_hidden_state_mean\n"
     ]
    },
    {
     "name": "stderr",
     "output_type": "stream",
     "text": [
      " 71%|███████▏  | 30/42 [05:24<03:13, 16.09s/it]"
     ]
    },
    {
     "name": "stdout",
     "output_type": "stream",
     "text": [
      "\tsuccess!\n",
      "Trying ngram=6_sub=-1_bert-base-uncased\n",
      "\tdone already!\n",
      "Trying ngram=6_sub=-1_bert-base-uncased__last_hidden_state_mean\n"
     ]
    },
    {
     "name": "stderr",
     "output_type": "stream",
     "text": [
      " 76%|███████▌  | 32/42 [05:52<02:32, 15.29s/it]"
     ]
    },
    {
     "name": "stdout",
     "output_type": "stream",
     "text": [
      "\tsuccess!\n",
      "Trying ngram=6_sub=-1_distilbert-base-uncased__last_hidden_state_mean\n"
     ]
    },
    {
     "name": "stderr",
     "output_type": "stream",
     "text": [
      " 79%|███████▊  | 33/42 [06:20<02:41, 17.96s/it]"
     ]
    },
    {
     "name": "stdout",
     "output_type": "stream",
     "text": [
      "\tsuccess!\n",
      "Trying ngram=6_sub=-1_textattack-bert-base-uncased-rotten_tomatoes\n",
      "\tdone already!\n",
      "Trying ngram=6_sub=-1_textattack-bert-base-uncased-rotten_tomatoes__last_hidden_state_mean\n"
     ]
    },
    {
     "name": "stderr",
     "output_type": "stream",
     "text": [
      " 83%|████████▎ | 35/42 [06:47<01:54, 16.39s/it]"
     ]
    },
    {
     "name": "stdout",
     "output_type": "stream",
     "text": [
      "\tsuccess!\n",
      "Trying ngram=6_sub=-1_textattack-distilbert-base-uncased-rotten-tomatoes__last_hidden_state_mean\n"
     ]
    },
    {
     "name": "stderr",
     "output_type": "stream",
     "text": [
      " 86%|████████▌ | 36/42 [07:15<01:52, 18.81s/it]"
     ]
    },
    {
     "name": "stdout",
     "output_type": "stream",
     "text": [
      "\tsuccess!\n",
      "Trying ngram=7_sub=-1_bert-base-uncased\n",
      "\tdone already!\n",
      "Trying ngram=7_sub=-1_bert-base-uncased__last_hidden_state_mean\n"
     ]
    },
    {
     "name": "stderr",
     "output_type": "stream",
     "text": [
      " 90%|█████████ | 38/42 [07:47<01:10, 17.69s/it]"
     ]
    },
    {
     "name": "stdout",
     "output_type": "stream",
     "text": [
      "\tsuccess!\n",
      "Trying ngram=7_sub=-1_distilbert-base-uncased__last_hidden_state_mean\n"
     ]
    },
    {
     "name": "stderr",
     "output_type": "stream",
     "text": [
      " 93%|█████████▎| 39/42 [08:18<01:01, 20.66s/it]"
     ]
    },
    {
     "name": "stdout",
     "output_type": "stream",
     "text": [
      "\tsuccess!\n",
      "Trying ngram=7_sub=-1_textattack-bert-base-uncased-rotten_tomatoes\n",
      "\tdone already!\n",
      "Trying ngram=7_sub=-1_textattack-bert-base-uncased-rotten_tomatoes__last_hidden_state_mean\n"
     ]
    },
    {
     "name": "stderr",
     "output_type": "stream",
     "text": [
      " 98%|█████████▊| 41/42 [08:50<00:18, 18.83s/it]"
     ]
    },
    {
     "name": "stdout",
     "output_type": "stream",
     "text": [
      "\tsuccess!\n",
      "Trying ngram=7_sub=-1_textattack-distilbert-base-uncased-rotten-tomatoes__last_hidden_state_mean\n"
     ]
    },
    {
     "name": "stderr",
     "output_type": "stream",
     "text": [
      "100%|██████████| 42/42 [09:22<00:00, 13.39s/it]\n"
     ]
    },
    {
     "name": "stdout",
     "output_type": "stream",
     "text": [
      "\tsuccess!\n"
     ]
    },
    {
     "name": "stderr",
     "output_type": "stream",
     "text": [
      "  0%|          | 0/82 [00:00<?, ?it/s]"
     ]
    },
    {
     "name": "stdout",
     "output_type": "stream",
     "text": [
      "Trying ngram=10_sub=-1_textattack-bert-base-uncased-SST-2\n",
      "\tdone already!\n",
      "Trying ngram=10_sub=1000_bert-base-uncased\n",
      "\tmissing small_ngrams:  [9]\n",
      "Trying ngram=10_sub=100_bert-base-uncased\n",
      "\tmissing small_ngrams:  [9]\n",
      "Trying ngram=10_sub=100_textattack-bert-base-uncased-SST-2\n",
      "\tmissing small_ngrams:  [9]\n",
      "Trying ngram=1_sub=-1_bert-base-uncased\n",
      "\tdone already!\n",
      "Trying ngram=1_sub=-1_bert-base-uncased__last_hidden_state_mean\n"
     ]
    },
    {
     "name": "stderr",
     "output_type": "stream",
     "text": [
      "  7%|▋         | 6/82 [01:00<12:47, 10.10s/it]"
     ]
    },
    {
     "name": "stdout",
     "output_type": "stream",
     "text": [
      "\tsuccess!\n",
      "Trying ngram=1_sub=-1_distilbert-base-uncased-finetuned-sst-2-english__last_hidden_state_mean\n"
     ]
    },
    {
     "name": "stderr",
     "output_type": "stream",
     "text": [
      "  9%|▊         | 7/82 [02:01<24:44, 19.80s/it]"
     ]
    },
    {
     "name": "stdout",
     "output_type": "stream",
     "text": [
      "\tsuccess!\n",
      "Trying ngram=1_sub=-1_distilbert-base-uncased__last_hidden_state_mean\n"
     ]
    },
    {
     "name": "stderr",
     "output_type": "stream",
     "text": [
      " 10%|▉         | 8/82 [03:02<35:20, 28.66s/it]"
     ]
    },
    {
     "name": "stdout",
     "output_type": "stream",
     "text": [
      "\tsuccess!\n",
      "Trying ngram=1_sub=-1_textattack-bert-base-uncased-SST-2\n",
      "\tdone already!\n",
      "Trying ngram=1_sub=-1_textattack-bert-base-uncased-SST-2__last_hidden_state_mean\n"
     ]
    },
    {
     "name": "stderr",
     "output_type": "stream",
     "text": [
      " 12%|█▏        | 10/82 [04:02<35:11, 29.32s/it]"
     ]
    },
    {
     "name": "stdout",
     "output_type": "stream",
     "text": [
      "\tsuccess!\n",
      "Trying ngram=1_sub=1000_bert-base-uncased\n",
      "\tdone already!\n",
      "Trying ngram=1_sub=1000_textattack-bert-base-uncased-SST-2\n",
      "\tdone already!\n",
      "Trying ngram=1_sub=100_bert-base-uncased\n",
      "\tdone already!\n",
      "Trying ngram=1_sub=100_textattack-bert-base-uncased-SST-2\n",
      "\tdone already!\n",
      "Trying ngram=2_sub=-1_bert-base-uncased\n",
      "\tdone already!\n",
      "Trying ngram=2_sub=-1_bert-base-uncased__last_hidden_state_mean\n"
     ]
    },
    {
     "name": "stderr",
     "output_type": "stream",
     "text": [
      " 20%|█▉        | 16/82 [05:31<22:19, 20.29s/it]"
     ]
    },
    {
     "name": "stdout",
     "output_type": "stream",
     "text": [
      "\tsuccess!\n",
      "Trying ngram=2_sub=-1_distilbert-base-uncased-finetuned-sst-2-english__last_hidden_state_mean\n"
     ]
    },
    {
     "name": "stderr",
     "output_type": "stream",
     "text": [
      " 21%|██        | 17/82 [07:01<31:41, 29.25s/it]"
     ]
    },
    {
     "name": "stdout",
     "output_type": "stream",
     "text": [
      "\tsuccess!\n",
      "Trying ngram=2_sub=-1_distilbert-base-uncased__last_hidden_state_mean\n"
     ]
    },
    {
     "name": "stderr",
     "output_type": "stream",
     "text": [
      " 22%|██▏       | 18/82 [08:30<41:06, 38.54s/it]"
     ]
    },
    {
     "name": "stdout",
     "output_type": "stream",
     "text": [
      "\tsuccess!\n",
      "Trying ngram=2_sub=-1_textattack-bert-base-uncased-SST-2\n",
      "\tdone already!\n",
      "Trying ngram=2_sub=-1_textattack-bert-base-uncased-SST-2__last_hidden_state_mean\n"
     ]
    },
    {
     "name": "stderr",
     "output_type": "stream",
     "text": [
      " 24%|██▍       | 20/82 [10:05<42:42, 41.32s/it]"
     ]
    },
    {
     "name": "stdout",
     "output_type": "stream",
     "text": [
      "\tsuccess!\n",
      "Trying ngram=2_sub=1000_bert-base-uncased\n",
      "\tdone already!\n",
      "Trying ngram=2_sub=1000_textattack-bert-base-uncased-SST-2\n",
      "\tdone already!\n",
      "Trying ngram=2_sub=100_bert-base-uncased\n",
      "\tdone already!\n",
      "Trying ngram=2_sub=100_textattack-bert-base-uncased-SST-2\n",
      "\tdone already!\n",
      "Trying ngram=3_sub=-1_bert-base-uncased\n",
      "\tdone already!\n",
      "Trying ngram=3_sub=-1_bert-base-uncased__last_hidden_state_mean\n"
     ]
    },
    {
     "name": "stderr",
     "output_type": "stream",
     "text": [
      " 32%|███▏      | 26/82 [12:02<26:57, 28.88s/it]"
     ]
    },
    {
     "name": "stdout",
     "output_type": "stream",
     "text": [
      "\tsuccess!\n",
      "Trying ngram=3_sub=-1_distilbert-base-uncased-finetuned-sst-2-english__last_hidden_state_mean\n"
     ]
    },
    {
     "name": "stderr",
     "output_type": "stream",
     "text": [
      " 33%|███▎      | 27/82 [13:58<36:00, 39.29s/it]"
     ]
    },
    {
     "name": "stdout",
     "output_type": "stream",
     "text": [
      "\tsuccess!\n",
      "Trying ngram=3_sub=-1_distilbert-base-uncased__last_hidden_state_mean\n"
     ]
    },
    {
     "name": "stderr",
     "output_type": "stream",
     "text": [
      " 34%|███▍      | 28/82 [15:55<45:31, 50.58s/it]"
     ]
    },
    {
     "name": "stdout",
     "output_type": "stream",
     "text": [
      "\tsuccess!\n",
      "Trying ngram=3_sub=-1_textattack-bert-base-uncased-SST-2\n",
      "\tdone already!\n",
      "Trying ngram=3_sub=-1_textattack-bert-base-uncased-SST-2__last_hidden_state_mean\n"
     ]
    },
    {
     "name": "stderr",
     "output_type": "stream",
     "text": [
      " 37%|███▋      | 30/82 [17:52<45:50, 52.90s/it]"
     ]
    },
    {
     "name": "stdout",
     "output_type": "stream",
     "text": [
      "\tsuccess!\n",
      "Trying ngram=3_sub=1000_bert-base-uncased\n",
      "\tdone already!\n",
      "Trying ngram=3_sub=1000_textattack-bert-base-uncased-SST-2\n",
      "\tdone already!\n",
      "Trying ngram=3_sub=100_bert-base-uncased\n",
      "\tdone already!\n",
      "Trying ngram=3_sub=100_textattack-bert-base-uncased-SST-2\n",
      "\tdone already!\n",
      "Trying ngram=4_sub=-1_bert-base-uncased\n",
      "\tdone already!\n",
      "Trying ngram=4_sub=-1_bert-base-uncased__last_hidden_state_mean\n"
     ]
    },
    {
     "name": "stderr",
     "output_type": "stream",
     "text": [
      " 44%|████▍     | 36/82 [20:17<28:17, 36.89s/it]"
     ]
    },
    {
     "name": "stdout",
     "output_type": "stream",
     "text": [
      "\tsuccess!\n",
      "Trying ngram=4_sub=-1_distilbert-base-uncased-finetuned-sst-2-english__last_hidden_state_mean\n"
     ]
    },
    {
     "name": "stderr",
     "output_type": "stream",
     "text": [
      " 45%|████▌     | 37/82 [22:42<37:11, 49.59s/it]"
     ]
    },
    {
     "name": "stdout",
     "output_type": "stream",
     "text": [
      "\tsuccess!\n",
      "Trying ngram=4_sub=-1_distilbert-base-uncased__last_hidden_state_mean\n"
     ]
    },
    {
     "name": "stderr",
     "output_type": "stream",
     "text": [
      " 46%|████▋     | 38/82 [25:07<46:24, 63.27s/it]"
     ]
    },
    {
     "name": "stdout",
     "output_type": "stream",
     "text": [
      "\tsuccess!\n",
      "Trying ngram=4_sub=-1_textattack-bert-base-uncased-SST-2\n",
      "\tdone already!\n",
      "Trying ngram=4_sub=-1_textattack-bert-base-uncased-SST-2__last_hidden_state_mean\n"
     ]
    },
    {
     "name": "stderr",
     "output_type": "stream",
     "text": [
      " 49%|████▉     | 40/82 [27:32<46:08, 65.91s/it]"
     ]
    },
    {
     "name": "stdout",
     "output_type": "stream",
     "text": [
      "\tsuccess!\n",
      "Trying ngram=4_sub=1000_bert-base-uncased\n",
      "\tdone already!\n",
      "Trying ngram=4_sub=1000_textattack-bert-base-uncased-SST-2\n",
      "\tdone already!\n",
      "Trying ngram=4_sub=100_bert-base-uncased\n",
      "\tdone already!\n",
      "Trying ngram=4_sub=100_textattack-bert-base-uncased-SST-2\n",
      "\tdone already!\n",
      "Trying ngram=5_sub=-1_bert-base-uncased\n",
      "\tdone already!\n",
      "Trying ngram=5_sub=-1_bert-base-uncased__last_hidden_state_mean\n"
     ]
    },
    {
     "name": "stderr",
     "output_type": "stream",
     "text": [
      " 56%|█████▌    | 46/82 [30:25<27:13, 45.38s/it]"
     ]
    },
    {
     "name": "stdout",
     "output_type": "stream",
     "text": [
      "\tsuccess!\n",
      "Trying ngram=5_sub=-1_distilbert-base-uncased-finetuned-sst-2-english__last_hidden_state_mean\n"
     ]
    },
    {
     "name": "stderr",
     "output_type": "stream",
     "text": [
      " 57%|█████▋    | 47/82 [33:18<35:08, 60.25s/it]"
     ]
    },
    {
     "name": "stdout",
     "output_type": "stream",
     "text": [
      "\tsuccess!\n",
      "Trying ngram=5_sub=-1_distilbert-base-uncased__last_hidden_state_mean\n"
     ]
    },
    {
     "name": "stderr",
     "output_type": "stream",
     "text": [
      " 59%|█████▊    | 48/82 [36:11<43:17, 76.39s/it]"
     ]
    },
    {
     "name": "stdout",
     "output_type": "stream",
     "text": [
      "\tsuccess!\n",
      "Trying ngram=5_sub=-1_textattack-bert-base-uncased-SST-2\n",
      "\tdone already!\n",
      "Trying ngram=5_sub=-1_textattack-bert-base-uncased-SST-2__last_hidden_state_mean\n"
     ]
    },
    {
     "name": "stderr",
     "output_type": "stream",
     "text": [
      " 61%|██████    | 50/82 [39:04<42:15, 79.22s/it]"
     ]
    },
    {
     "name": "stdout",
     "output_type": "stream",
     "text": [
      "\tsuccess!\n",
      "Trying ngram=5_sub=1000_bert-base-uncased\n",
      "\tdone already!\n",
      "Trying ngram=5_sub=1000_textattack-bert-base-uncased-SST-2\n",
      "\tdone already!\n",
      "Trying ngram=5_sub=100_bert-base-uncased\n",
      "\tdone already!\n",
      "Trying ngram=5_sub=100_textattack-bert-base-uncased-SST-2\n",
      "\tdone already!\n",
      "Trying ngram=6_sub=-1_bert-base-uncased\n",
      "\tdone already!\n",
      "Trying ngram=6_sub=-1_bert-base-uncased__last_hidden_state_mean\n"
     ]
    },
    {
     "name": "stderr",
     "output_type": "stream",
     "text": [
      " 68%|██████▊   | 56/82 [42:24<23:20, 53.87s/it]"
     ]
    },
    {
     "name": "stdout",
     "output_type": "stream",
     "text": [
      "\tsuccess!\n",
      "Trying ngram=6_sub=-1_distilbert-base-uncased-finetuned-sst-2-english__last_hidden_state_mean\n"
     ]
    },
    {
     "name": "stderr",
     "output_type": "stream",
     "text": [
      " 70%|██████▉   | 57/82 [45:46<29:37, 71.11s/it]"
     ]
    },
    {
     "name": "stdout",
     "output_type": "stream",
     "text": [
      "\tsuccess!\n",
      "Trying ngram=6_sub=-1_distilbert-base-uncased__last_hidden_state_mean\n"
     ]
    },
    {
     "name": "stderr",
     "output_type": "stream",
     "text": [
      " 71%|███████   | 58/82 [49:07<35:52, 89.67s/it]"
     ]
    },
    {
     "name": "stdout",
     "output_type": "stream",
     "text": [
      "\tsuccess!\n",
      "Trying ngram=6_sub=-1_textattack-bert-base-uncased-SST-2\n",
      "\tdone already!\n",
      "Trying ngram=6_sub=-1_textattack-bert-base-uncased-SST-2__last_hidden_state_mean\n"
     ]
    },
    {
     "name": "stderr",
     "output_type": "stream",
     "text": [
      " 73%|███████▎  | 60/82 [52:29<34:04, 92.92s/it]"
     ]
    },
    {
     "name": "stdout",
     "output_type": "stream",
     "text": [
      "\tsuccess!\n",
      "Trying ngram=6_sub=1000_bert-base-uncased\n",
      "\tdone already!\n",
      "Trying ngram=6_sub=1000_textattack-bert-base-uncased-SST-2\n",
      "\tdone already!\n",
      "Trying ngram=6_sub=100_bert-base-uncased\n",
      "\tdone already!\n",
      "Trying ngram=6_sub=100_textattack-bert-base-uncased-SST-2\n",
      "\tdone already!\n",
      "Trying ngram=7_sub=-1_bert-base-uncased\n",
      "\tdone already!\n",
      "Trying ngram=7_sub=-1_bert-base-uncased__last_hidden_state_mean\n"
     ]
    },
    {
     "name": "stderr",
     "output_type": "stream",
     "text": [
      " 80%|████████  | 66/82 [56:18<16:40, 62.55s/it]"
     ]
    },
    {
     "name": "stdout",
     "output_type": "stream",
     "text": [
      "\tsuccess!\n",
      "Trying ngram=7_sub=-1_distilbert-base-uncased-finetuned-sst-2-english__last_hidden_state_mean\n"
     ]
    },
    {
     "name": "stderr",
     "output_type": "stream",
     "text": [
      " 82%|████████▏ | 67/82 [1:00:07<20:30, 82.01s/it]"
     ]
    },
    {
     "name": "stdout",
     "output_type": "stream",
     "text": [
      "\tsuccess!\n",
      "Trying ngram=7_sub=-1_distilbert-base-uncased__last_hidden_state_mean\n"
     ]
    },
    {
     "name": "stderr",
     "output_type": "stream",
     "text": [
      " 83%|████████▎ | 68/82 [1:03:58<24:06, 103.30s/it]"
     ]
    },
    {
     "name": "stdout",
     "output_type": "stream",
     "text": [
      "\tsuccess!\n",
      "Trying ngram=7_sub=-1_textattack-bert-base-uncased-SST-2\n",
      "\tdone already!\n",
      "Trying ngram=7_sub=-1_textattack-bert-base-uncased-SST-2__last_hidden_state_mean\n"
     ]
    }
   ],
   "source": [
    "for dset in sorted(os.listdir(config.data_dir)):\n",
    "    processed_dir = oj(config.data_dir, dset)\n",
    "    dir_names = [f for f in sorted(os.listdir(processed_dir))\n",
    "                 if not '-all' in f\n",
    "                ]\n",
    "\n",
    "    for i in tqdm(range(len(dir_names))):\n",
    "        s = dir_names[i]\n",
    "        start = s.index('=') + 1\n",
    "        end = s.index('_')\n",
    "        num = int(s[start: end])\n",
    "#         if num > 1:\n",
    "        print('Trying', s)\n",
    "        s_new = s + '-all'\n",
    "        if os.path.exists(oj(processed_dir, s_new)):\n",
    "            print('\\tdone already!')\n",
    "            continue\n",
    "\n",
    "        pre = s[:start]\n",
    "        end = s[end:]\n",
    "        all_exist = True\n",
    "        num_missing = []\n",
    "        for num_small in range(1, num):\n",
    "            fname_small = pre + str(num_small) + end\n",
    "            all_exist = all_exist and (fname_small in dir_names)\n",
    "            if not fname_small in dir_names:\n",
    "                num_missing.append(num_small)\n",
    "\n",
    "        if not all_exist:\n",
    "            print('\\tmissing small_ngrams: ', num_missing)\n",
    "            continue\n",
    "\n",
    "        # load dset\n",
    "        reloaded_dataset = load_from_disk(oj(processed_dir, s))\n",
    "        X_train = np.array(reloaded_dataset['train']['embs']).squeeze()\n",
    "        X_val = np.array(reloaded_dataset['validation']['embs']).squeeze()\n",
    "\n",
    "        for num_small in range(1, num + 1):\n",
    "            fname_small = pre + str(num_small) + end            \n",
    "            reloaded_dataset = load_from_disk(oj(processed_dir, fname_small))\n",
    "            X_train_small = np.array(reloaded_dataset['train']['embs']).squeeze()\n",
    "            X_val_small = np.array(reloaded_dataset['validation']['embs']).squeeze()\n",
    "\n",
    "            X_train += X_train_small\n",
    "            X_val += X_val_small\n",
    "\n",
    "        os.makedirs(oj(processed_dir, s_new), exist_ok=True)\n",
    "        mu = X_train.mean(axis=0)\n",
    "        sigma = X_train.std(axis=0)\n",
    "        r = {\n",
    "            'X_train': X_train,\n",
    "            'X_val': X_val,\n",
    "            'mean': mu,\n",
    "            'sigma': sigma,\n",
    "        }\n",
    "        pkl.dump(r, open(oj(processed_dir, s_new, 'data.pkl'), 'wb'))\n",
    "        print('\\tsuccess!')"
   ]
  }
 ],
 "metadata": {
  "kernelspec": {
   "display_name": "Python 3",
   "language": "python",
   "name": "python3"
  },
  "language_info": {
   "codemirror_mode": {
    "name": "ipython",
    "version": 3
   },
   "file_extension": ".py",
   "mimetype": "text/x-python",
   "name": "python",
   "nbconvert_exporter": "python",
   "pygments_lexer": "ipython3",
   "version": "3.8.13"
  }
 },
 "nbformat": 4,
 "nbformat_minor": 4
}
