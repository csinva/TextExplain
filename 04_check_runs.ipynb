{
 "cells": [
  {
   "cell_type": "code",
   "execution_count": 1,
   "metadata": {},
   "outputs": [],
   "source": [
    "import datasets\n",
    "import numpy as np\n",
    "import os.path\n",
    "from datasets import load_from_disk\n",
    "import pickle as pkl\n",
    "from sklearn.linear_model import LogisticRegressionCV\n",
    "from collections import defaultdict\n",
    "from copy import deepcopy\n",
    "from tqdm import tqdm\n",
    "import pandas as pd\n",
    "from os.path import join as oj\n",
    "import matplotlib.pyplot as plt\n",
    "import config\n",
    "pd.set_option('display.max_rows', None)"
   ]
  },
  {
   "cell_type": "code",
   "execution_count": 2,
   "metadata": {},
   "outputs": [
    {
     "name": "stdout",
     "output_type": "stream",
     "text": [
      "ngram=8_sub=1000_textattack-bert-base-uncased-SST-2-all\n",
      "ngram=8_sub=-1_bert-base-uncased\n",
      "ngram=8_sub=100_textattack-bert-base-uncased-SST-2\n",
      "ngram=8_sub=100_textattack-bert-base-uncased-SST-2-all\n",
      "ngram=8_sub=100_bert-base-uncased\n",
      "ngram=8_sub=-1_textattack-bert-base-uncased-SST-2\n",
      "ngram=8_sub=1000_textattack-bert-base-uncased-SST-2\n",
      "ngram=8_sub=100_bert-base-uncased-all\n",
      "ngram=8_sub=1000_bert-base-uncased-all\n",
      "ngram=8_sub=1000_bert-base-uncased\n"
     ]
    }
   ],
   "source": [
    "# find things that haven't been fit by linear model\n",
    "data_dir = oj(config.data_dir, 'sst2')\n",
    "results_dir = oj(config.results_dir, 'sst2')\n",
    "dir_names = os.listdir(data_dir)\n",
    "results_names = os.listdir(results_dir)\n",
    "\n",
    "for dir_name in dir_names:\n",
    "    if not dir_name in results_names:\n",
    "        print(dir_name)"
   ]
  }
 ],
 "metadata": {
  "kernelspec": {
   "display_name": "Python 3.7",
   "language": "python",
   "name": "python3.7"
  },
  "language_info": {
   "codemirror_mode": {
    "name": "ipython",
    "version": 3
   },
   "file_extension": ".py",
   "mimetype": "text/x-python",
   "name": "python",
   "nbconvert_exporter": "python",
   "pygments_lexer": "ipython3",
   "version": "3.7.5"
  }
 },
 "nbformat": 4,
 "nbformat_minor": 4
}
