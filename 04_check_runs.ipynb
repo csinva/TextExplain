{
 "cells": [
  {
   "cell_type": "code",
   "execution_count": 1,
   "metadata": {},
   "outputs": [],
   "source": [
    "%load_ext autoreload\n",
    "%autoreload 2\n",
    "from transformers import BertModel, DistilBertModel\n",
    "from transformers import pipeline\n",
    "from transformers import AutoTokenizer, AutoModelForSequenceClassification\n",
    "import datasets\n",
    "import numpy as np\n",
    "import os.path\n",
    "from datasets import load_from_disk\n",
    "import pickle as pkl\n",
    "from sklearn.linear_model import LogisticRegressionCV\n",
    "from collections import defaultdict\n",
    "from copy import deepcopy\n",
    "from tqdm import tqdm\n",
    "import pandas as pd\n",
    "from os.path import join as oj\n",
    "import matplotlib.pyplot as plt\n",
    "pd.set_option('display.max_rows', None)"
   ]
  },
  {
   "cell_type": "code",
   "execution_count": 2,
   "metadata": {},
   "outputs": [],
   "source": [
    "# depending on how much is saved, this may take a while\n",
    "data_dir = 'data/processed'\n",
    "out_dir = '/scratch/users/vision/chandan/embedded-ngrams'\n",
    "dir_names = os.listdir(data_dir)\n",
    "results_names = os.listdir(out_dir)"
   ]
  },
  {
   "cell_type": "code",
   "execution_count": 9,
   "metadata": {},
   "outputs": [
    {
     "name": "stdout",
     "output_type": "stream",
     "text": [
      "dataset_dict.json  train  validation\n"
     ]
    }
   ],
   "source": [
    "!ls data/processed/'ngram=10_sub=1000_textattack'/bert-base-uncased-SST-2"
   ]
  },
  {
   "cell_type": "code",
   "execution_count": 3,
   "metadata": {},
   "outputs": [
    {
     "name": "stdout",
     "output_type": "stream",
     "text": [
      "ngram=3_sub=1000_textattack\n",
      "ngram=4_sub=1000_textattack\n",
      "ngram=7_sub=100_textattack\n",
      "ngram=2_sub=100_textattack\n",
      "ngram=7_sub=1000_textattack\n",
      "ngram=5_sub=100_textattack\n",
      "ngram=10_sub=100_textattack\n",
      "ngram=5_sub=1000_textattack\n",
      "ngram=2_sub=1000_textattack\n",
      "ngram=4_sub=100_textattack\n",
      "ngram=3_sub=100_textattack\n",
      "ngram=1_sub=1000_textattack\n",
      "ngram=10_sub=1000_textattack\n",
      "ngram=6_sub=1000_textattack\n",
      "ngram=6_sub=100_textattack\n",
      "ngram=1_sub=100_textattack\n"
     ]
    }
   ],
   "source": [
    "for dir_name in dir_names:\n",
    "    if not dir_name in results_names:\n",
    "        print(dir_name)"
   ]
  },
  {
   "cell_type": "code",
   "execution_count": null,
   "metadata": {},
   "outputs": [],
   "source": []
  }
 ],
 "metadata": {
  "kernelspec": {
   "display_name": "Python 3",
   "language": "python",
   "name": "python3"
  },
  "language_info": {
   "codemirror_mode": {
    "name": "ipython",
    "version": 3
   },
   "file_extension": ".py",
   "mimetype": "text/x-python",
   "name": "python",
   "nbconvert_exporter": "python",
   "pygments_lexer": "ipython3",
   "version": "3.8.3"
  }
 },
 "nbformat": 4,
 "nbformat_minor": 4
}
