{
 "cells": [
  {
   "cell_type": "code",
   "execution_count": 1,
   "metadata": {},
   "outputs": [],
   "source": [
    "%load_ext autoreload\n",
    "%autoreload 2\n",
    "from transformers import BertModel, BertConfig\n",
    "from transformers import pipeline\n",
    "from transformers import AutoTokenizer, AutoModelForSequenceClassification\n",
    "import datasets\n",
    "import numpy as np\n",
    "from datasets import load_from_disk\n",
    "import pickle as pkl\n",
    "import sklearn\n",
    "from spacy.lang.en import English\n",
    "from sklearn.feature_extraction.text import CountVectorizer, TfidfVectorizer\n",
    "from sklearn.linear_model import LogisticRegressionCV\n",
    "from collections import defaultdict\n",
    "from copy import deepcopy\n",
    "import pandas as pd"
   ]
  },
  {
   "cell_type": "markdown",
   "metadata": {},
   "source": [
    "Loosely following [this tutorial](https://amueller.github.io/aml/05-advanced-topics/13-text-data.html)."
   ]
  },
  {
   "cell_type": "code",
   "execution_count": 2,
   "metadata": {},
   "outputs": [
    {
     "name": "stderr",
     "output_type": "stream",
     "text": [
      "Using custom data configuration default\n",
      "Reusing dataset sst2 (/tmp/.xdg_cache_vision/huggingface/datasets/sst2/default/2.0.0/9896208a8d85db057ac50c72282bcb8fe755accc671a57dd8059d4e130961ed5)\n"
     ]
    },
    {
     "data": {
      "application/vnd.jupyter.widget-view+json": {
       "model_id": "29f85fa88af84f1997bbd309b6dc9dc2",
       "version_major": 2,
       "version_minor": 0
      },
      "text/plain": [
       "  0%|          | 0/3 [00:00<?, ?it/s]"
      ]
     },
     "metadata": {},
     "output_type": "display_data"
    }
   ],
   "source": [
    "dataset = datasets.load_dataset('sst2')\n",
    "nlp = English()\n",
    "simple_tokenizer = lambda x: [str(x) for x in nlp.tokenizer(x)] # for our word-finding"
   ]
  },
  {
   "cell_type": "code",
   "execution_count": null,
   "metadata": {},
   "outputs": [],
   "source": [
    "def transform(vectorizer, dataset):\n",
    "    X_train = vectorizer.transform(dataset['train']['sentence'])\n",
    "    X_val = vectorizer.transform(dataset['validation']['sentence'])\n",
    "    # X_test = vectorizer.transform(dataset['test']['sentence'])\n",
    "    return X_train, X_val #, X_test\n",
    "\n",
    "\n",
    "def fit_and_score(X_train, X_val, dataset, r):\n",
    "    # model\n",
    "    m = LogisticRegressionCV()\n",
    "    m.fit(X_train, dataset['train']['label'])\n",
    "    r['model'].append(deepcopy(m))\n",
    "    \n",
    "    # performance\n",
    "    acc_train = m.score(X_train, dataset['train']['label'])\n",
    "    acc_val = m.score(X_val, dataset['validation']['label'])\n",
    "    print('\\ttrain', acc_train.round(3))\n",
    "    print('\\tval', acc_val.round(3))\n",
    "    r['acc_train'].append(acc_train)\n",
    "    r['acc_val'].append(acc_val)\n",
    "\n",
    "r = defaultdict(list)\n",
    "for i, vectorizer in enumerate([\n",
    "    CountVectorizer(tokenizer=simple_tokenizer), # unigrams only\n",
    "    TfidfVectorizer(tokenizer=simple_tokenizer),\n",
    "    CountVectorizer(tokenizer=simple_tokenizer, ngram_range=(1, 2)),\n",
    "    TfidfVectorizer(tokenizer=simple_tokenizer, ngram_range=(1, 2)),    \n",
    "    CountVectorizer(tokenizer=simple_tokenizer, ngram_range=(1, 3)),\n",
    "    TfidfVectorizer(tokenizer=simple_tokenizer, ngram_range=(1, 3)),   \n",
    "    CountVectorizer(tokenizer=simple_tokenizer, ngram_range=(1, 4)),\n",
    "    TfidfVectorizer(tokenizer=simple_tokenizer, ngram_range=(1, 4)),       \n",
    "    CountVectorizer(tokenizer=simple_tokenizer, ngram_range=(1, 5)),\n",
    "    TfidfVectorizer(tokenizer=simple_tokenizer, ngram_range=(1, 5)),           \n",
    "]):\n",
    "    print(vectorizer)\n",
    "    vectorizer.fit(dataset['train']['sentence'])\n",
    "    X_train, X_val, X_test = transform(vectorizer, dataset)\n",
    "    print('\\tshapes', X_train.shape, X_val.shape)\n",
    "    print('\\tvocab ex.', list(vectorizer.vocabulary_.keys())[:10])\n",
    "    # r['vectorizer'].append(deepcopy(vectorizer))\n",
    "    r['model_type'].append(str(type(vectorizer)))\n",
    "    r['ngram_range'].append(vectorizer.ngram_range)\n",
    "    r['num_features'].append(X_train.shape[1])\n",
    "    \n",
    "    fit_and_score(X_train, X_val, dataset, r)\n",
    "    \n",
    "    pkl.dump(r, open(f'results/r_{i}.pkl', 'wb'))"
   ]
  },
  {
   "cell_type": "code",
   "execution_count": 10,
   "metadata": {},
   "outputs": [
    {
     "data": {
      "text/html": [
       "<div>\n",
       "<style scoped>\n",
       "    .dataframe tbody tr th:only-of-type {\n",
       "        vertical-align: middle;\n",
       "    }\n",
       "\n",
       "    .dataframe tbody tr th {\n",
       "        vertical-align: top;\n",
       "    }\n",
       "\n",
       "    .dataframe thead th {\n",
       "        text-align: right;\n",
       "    }\n",
       "</style>\n",
       "<table border=\"1\" class=\"dataframe\">\n",
       "  <thead>\n",
       "    <tr style=\"text-align: right;\">\n",
       "      <th></th>\n",
       "      <th>vectorizer_type</th>\n",
       "      <th>ngram_range</th>\n",
       "      <th>num_features</th>\n",
       "      <th>model</th>\n",
       "      <th>acc_train</th>\n",
       "      <th>acc_val</th>\n",
       "    </tr>\n",
       "  </thead>\n",
       "  <tbody>\n",
       "    <tr>\n",
       "      <th>0</th>\n",
       "      <td>&lt;class 'sklearn.feature_extraction.text.CountV...</td>\n",
       "      <td>(1, 1)</td>\n",
       "      <td>13887</td>\n",
       "      <td>LogisticRegressionCV()</td>\n",
       "      <td>0.963281</td>\n",
       "      <td>0.807339</td>\n",
       "    </tr>\n",
       "    <tr>\n",
       "      <th>1</th>\n",
       "      <td>&lt;class 'sklearn.feature_extraction.text.TfidfV...</td>\n",
       "      <td>(1, 1)</td>\n",
       "      <td>13887</td>\n",
       "      <td>LogisticRegressionCV()</td>\n",
       "      <td>0.958856</td>\n",
       "      <td>0.811927</td>\n",
       "    </tr>\n",
       "    <tr>\n",
       "      <th>2</th>\n",
       "      <td>&lt;class 'sklearn.feature_extraction.text.CountV...</td>\n",
       "      <td>(1, 2)</td>\n",
       "      <td>86388</td>\n",
       "      <td>LogisticRegressionCV()</td>\n",
       "      <td>0.991834</td>\n",
       "      <td>0.821101</td>\n",
       "    </tr>\n",
       "    <tr>\n",
       "      <th>3</th>\n",
       "      <td>&lt;class 'sklearn.feature_extraction.text.TfidfV...</td>\n",
       "      <td>(1, 2)</td>\n",
       "      <td>86388</td>\n",
       "      <td>LogisticRegressionCV()</td>\n",
       "      <td>0.992398</td>\n",
       "      <td>0.825688</td>\n",
       "    </tr>\n",
       "    <tr>\n",
       "      <th>4</th>\n",
       "      <td>&lt;class 'sklearn.feature_extraction.text.CountV...</td>\n",
       "      <td>(1, 3)</td>\n",
       "      <td>195188</td>\n",
       "      <td>LogisticRegressionCV()</td>\n",
       "      <td>0.997639</td>\n",
       "      <td>0.823394</td>\n",
       "    </tr>\n",
       "    <tr>\n",
       "      <th>5</th>\n",
       "      <td>&lt;class 'sklearn.feature_extraction.text.TfidfV...</td>\n",
       "      <td>(1, 3)</td>\n",
       "      <td>195188</td>\n",
       "      <td>LogisticRegressionCV()</td>\n",
       "      <td>0.995382</td>\n",
       "      <td>0.831422</td>\n",
       "    </tr>\n",
       "    <tr>\n",
       "      <th>6</th>\n",
       "      <td>&lt;class 'sklearn.feature_extraction.text.CountV...</td>\n",
       "      <td>(1, 4)</td>\n",
       "      <td>309212</td>\n",
       "      <td>LogisticRegressionCV()</td>\n",
       "      <td>0.998916</td>\n",
       "      <td>0.823394</td>\n",
       "    </tr>\n",
       "    <tr>\n",
       "      <th>7</th>\n",
       "      <td>&lt;class 'sklearn.feature_extraction.text.TfidfV...</td>\n",
       "      <td>(1, 4)</td>\n",
       "      <td>309212</td>\n",
       "      <td>LogisticRegressionCV()</td>\n",
       "      <td>0.996436</td>\n",
       "      <td>0.837156</td>\n",
       "    </tr>\n",
       "    <tr>\n",
       "      <th>8</th>\n",
       "      <td>&lt;class 'sklearn.feature_extraction.text.CountV...</td>\n",
       "      <td>(1, 5)</td>\n",
       "      <td>419166</td>\n",
       "      <td>LogisticRegressionCV()</td>\n",
       "      <td>0.999079</td>\n",
       "      <td>0.817661</td>\n",
       "    </tr>\n",
       "    <tr>\n",
       "      <th>9</th>\n",
       "      <td>&lt;class 'sklearn.feature_extraction.text.TfidfV...</td>\n",
       "      <td>(1, 5)</td>\n",
       "      <td>419166</td>\n",
       "      <td>LogisticRegressionCV()</td>\n",
       "      <td>0.996971</td>\n",
       "      <td>0.829128</td>\n",
       "    </tr>\n",
       "  </tbody>\n",
       "</table>\n",
       "</div>"
      ],
      "text/plain": [
       "                                     vectorizer_type ngram_range  \\\n",
       "0  <class 'sklearn.feature_extraction.text.CountV...      (1, 1)   \n",
       "1  <class 'sklearn.feature_extraction.text.TfidfV...      (1, 1)   \n",
       "2  <class 'sklearn.feature_extraction.text.CountV...      (1, 2)   \n",
       "3  <class 'sklearn.feature_extraction.text.TfidfV...      (1, 2)   \n",
       "4  <class 'sklearn.feature_extraction.text.CountV...      (1, 3)   \n",
       "5  <class 'sklearn.feature_extraction.text.TfidfV...      (1, 3)   \n",
       "6  <class 'sklearn.feature_extraction.text.CountV...      (1, 4)   \n",
       "7  <class 'sklearn.feature_extraction.text.TfidfV...      (1, 4)   \n",
       "8  <class 'sklearn.feature_extraction.text.CountV...      (1, 5)   \n",
       "9  <class 'sklearn.feature_extraction.text.TfidfV...      (1, 5)   \n",
       "\n",
       "   num_features                   model  acc_train   acc_val  \n",
       "0         13887  LogisticRegressionCV()   0.963281  0.807339  \n",
       "1         13887  LogisticRegressionCV()   0.958856  0.811927  \n",
       "2         86388  LogisticRegressionCV()   0.991834  0.821101  \n",
       "3         86388  LogisticRegressionCV()   0.992398  0.825688  \n",
       "4        195188  LogisticRegressionCV()   0.997639  0.823394  \n",
       "5        195188  LogisticRegressionCV()   0.995382  0.831422  \n",
       "6        309212  LogisticRegressionCV()   0.998916  0.823394  \n",
       "7        309212  LogisticRegressionCV()   0.996436  0.837156  \n",
       "8        419166  LogisticRegressionCV()   0.999079  0.817661  \n",
       "9        419166  LogisticRegressionCV()   0.996971  0.829128  "
      ]
     },
     "execution_count": 10,
     "metadata": {},
     "output_type": "execute_result"
    }
   ],
   "source": [
    "df = pd.DataFrame.from_dict(r).sort_values('ngram_range')\n",
    "df"
   ]
  },
  {
   "cell_type": "code",
   "execution_count": 14,
   "metadata": {},
   "outputs": [
    {
     "data": {
      "text/plain": [
       "0    [21.54434690031882]\n",
       "1    [21.54434690031882]\n",
       "2    [2.782559402207126]\n",
       "3    [21.54434690031882]\n",
       "4    [2.782559402207126]\n",
       "5    [21.54434690031882]\n",
       "6    [2.782559402207126]\n",
       "7    [21.54434690031882]\n",
       "8    [2.782559402207126]\n",
       "9    [21.54434690031882]\n",
       "Name: model, dtype: object"
      ]
     },
     "execution_count": 14,
     "metadata": {},
     "output_type": "execute_result"
    }
   ],
   "source": [
    "df['model'].apply(lambda x: x.C_)"
   ]
  },
  {
   "cell_type": "code",
   "execution_count": 13,
   "metadata": {},
   "outputs": [
    {
     "data": {
      "text/plain": [
       "array([1.00000000e-04, 7.74263683e-04, 5.99484250e-03, 4.64158883e-02,\n",
       "       3.59381366e-01, 2.78255940e+00, 2.15443469e+01, 1.66810054e+02,\n",
       "       1.29154967e+03, 1.00000000e+04])"
      ]
     },
     "execution_count": 13,
     "metadata": {},
     "output_type": "execute_result"
    }
   ],
   "source": [
    "df.model.iloc[0].Cs_"
   ]
  },
  {
   "cell_type": "code",
   "execution_count": null,
   "metadata": {},
   "outputs": [],
   "source": []
  }
 ],
 "metadata": {
  "kernelspec": {
   "display_name": "Python 3",
   "language": "python",
   "name": "python3"
  },
  "language_info": {
   "codemirror_mode": {
    "name": "ipython",
    "version": 3
   },
   "file_extension": ".py",
   "mimetype": "text/x-python",
   "name": "python",
   "nbconvert_exporter": "python",
   "pygments_lexer": "ipython3",
   "version": "3.8.3"
  }
 },
 "nbformat": 4,
 "nbformat_minor": 4
}
