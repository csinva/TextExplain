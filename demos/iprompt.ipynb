{
 "cells": [
  {
   "cell_type": "code",
   "execution_count": 1,
   "metadata": {},
   "outputs": [
    {
     "name": "stdout",
     "output_type": "stream",
     "text": [
      "'Given the input numbers 1 and 7, the answer is' ' 8.\\\\n\\\\n'\n",
      "'Given the input numbers 6 and 5, the answer is' ' 11.\\\\n\\\\n'\n",
      "'Given the input numbers 4 and 6, the answer is' ' 10.\\\\n\\\\n'\n",
      "'Given the input numbers 3 and 5, the answer is' ' 8.\\\\n\\\\n'\n",
      "'Given the input numbers 0 and 7, the answer is' ' 7.\\\\n\\\\n'\n"
     ]
    }
   ],
   "source": [
    "%load_ext autoreload\n",
    "%autoreload 2\n",
    "from imodelsx import explain_dataset_iprompt, get_add_two_numbers_dataset\n",
    "\n",
    "# get a simple dataset of adding two numbers\n",
    "input_strings, output_strings = get_add_two_numbers_dataset(num_examples=100)\n",
    "for i in range(5):\n",
    "    print(repr(input_strings[i]), repr(output_strings[i]))"
   ]
  },
  {
   "cell_type": "code",
   "execution_count": 2,
   "metadata": {},
   "outputs": [
    {
     "name": "stdout",
     "output_type": "stream",
     "text": [
      "start_word_id = tensor([1169])\n",
      "preprefix: ''\n",
      "loading model...\n",
      "Training with 19 possible answers / random acc 5.3% / majority acc 10.0%\n"
     ]
    },
    {
     "name": "stderr",
     "output_type": "stream",
     "text": [
      "  0%|          | 0/1 [00:00<?, ?it/s]"
     ]
    },
    {
     "name": "stdout",
     "output_type": "stream",
     "text": [
      "population_pool: [' n1=', ' A user types', ' \"Input 2', ' The problem with', ' How are these', ' What you really', ' \\\\t?', ' Given a string', ' \\\\t?', ' n1=', ' n1=', ' A user types']\n"
     ]
    },
    {
     "name": "stderr",
     "output_type": "stream",
     "text": [
      "Loss = 3.687: 100%|██████████| 1/1 [00:22<00:00, 22.66s/it]\n"
     ]
    },
    {
     "name": "stdout",
     "output_type": "stream",
     "text": [
      "Epoch 0. average loss = 3.687 / 0 / 100 correct (0.00%)\n"
     ]
    },
    {
     "name": "stderr",
     "output_type": "stream",
     "text": [
      "  0%|          | 0/1 [00:00<?, ?it/s]"
     ]
    },
    {
     "name": "stdout",
     "output_type": "stream",
     "text": [
      "population_pool: [' \\\\x{', ' Given x \\\\', ' [<text', ' (3)(', ' (3)(', ' The prompt given', ' n * m', ' A positive integer', ' What do you', ' What do you', ' How are these', ' \"Input 2']\n"
     ]
    },
    {
     "name": "stderr",
     "output_type": "stream",
     "text": [
      "Loss = 3.687: 100%|██████████| 1/1 [00:21<00:00, 21.34s/it]\n"
     ]
    },
    {
     "name": "stdout",
     "output_type": "stream",
     "text": [
      "Epoch 1. average loss = 3.687 / 0 / 100 correct (0.00%)\n"
     ]
    },
    {
     "name": "stderr",
     "output_type": "stream",
     "text": [
      "  0%|          | 0/1 [00:00<?, ?it/s]"
     ]
    },
    {
     "name": "stdout",
     "output_type": "stream",
     "text": [
      "population_pool: [' \\\\x{', ' \"Enter n', ' Prompt  A', ' Given x \\\\', ' \\xa08', ' 3  (', ' [Enter your', \" 'Number',\", ' (3)(', ' The prompt given', ' <input id', ' Enter two positive']\n"
     ]
    },
    {
     "name": "stderr",
     "output_type": "stream",
     "text": [
      "Loss = 3.577: 100%|██████████| 1/1 [00:21<00:00, 21.52s/it]\n"
     ]
    },
    {
     "name": "stdout",
     "output_type": "stream",
     "text": [
      "Epoch 2. average loss = 3.577 / 0 / 100 correct (0.00%)\n"
     ]
    },
    {
     "name": "stderr",
     "output_type": "stream",
     "text": [
      "  0%|          | 0/1 [00:00<?, ?it/s]"
     ]
    },
    {
     "name": "stdout",
     "output_type": "stream",
     "text": [
      "population_pool: ['  \\\\\\\\\\\\', ' \\\\x{', ' \"Enter n', ' (none)\\\\', ' Prompt  A', '>0 2', ' > \\\\\\r', ' Given x \\\\', ' 3  (', ' Enter Integer :', ' [Enter your', \" 'Number',\"]\n"
     ]
    },
    {
     "name": "stderr",
     "output_type": "stream",
     "text": [
      "Loss = 3.577: 100%|██████████| 1/1 [00:21<00:00, 21.60s/it]\n"
     ]
    },
    {
     "name": "stdout",
     "output_type": "stream",
     "text": [
      "Epoch 3. average loss = 3.577 / 0 / 100 correct (0.00%)\n"
     ]
    },
    {
     "name": "stderr",
     "output_type": "stream",
     "text": [
      "  0%|          | 0/1 [00:00<?, ?it/s]"
     ]
    },
    {
     "name": "stdout",
     "output_type": "stream",
     "text": [
      "population_pool: ['  \\\\\\\\\\\\', ' \\\\x{', ' `Enter a', ' \"If a', ' (none)\\\\', \" 'inputnumber\", ' Prompt  A', '>0 2', ' > \\\\\\r', ' Given x \\\\', ' 3  (', ' Enter Integer :']\n"
     ]
    },
    {
     "name": "stderr",
     "output_type": "stream",
     "text": [
      "Loss = 3.687: 100%|██████████| 1/1 [00:21<00:00, 21.60s/it]\n"
     ]
    },
    {
     "name": "stdout",
     "output_type": "stream",
     "text": [
      "Epoch 4. average loss = 3.687 / 0 / 100 correct (0.00%)\n"
     ]
    },
    {
     "name": "stderr",
     "output_type": "stream",
     "text": [
      "  0%|          | 0/1 [00:00<?, ?it/s]"
     ]
    },
    {
     "name": "stdout",
     "output_type": "stream",
     "text": [
      "population_pool: ['  \\\\\\\\\\\\', ' \\\\x{', ' `Enter a', ' \"If a', '>0 1', ' Prompt  \\\\', ' (none)\\\\', \" 'inputnumber\", ' > \\\\\\r', ' Given x \\\\', ' 3  (', ' Enter Integer :']\n"
     ]
    },
    {
     "name": "stderr",
     "output_type": "stream",
     "text": [
      "Loss = 3.602: 100%|██████████| 1/1 [00:21<00:00, 21.66s/it]\n"
     ]
    },
    {
     "name": "stdout",
     "output_type": "stream",
     "text": [
      "Epoch 5. average loss = 3.602 / 0 / 100 correct (0.00%)\n"
     ]
    },
    {
     "name": "stderr",
     "output_type": "stream",
     "text": [
      "  0%|          | 0/1 [00:00<?, ?it/s]"
     ]
    },
    {
     "name": "stdout",
     "output_type": "stream",
     "text": [
      "population_pool: ['  \\\\\\\\\\\\', ' \\\\\"[]', ' `Enter a', ' \"If a', '>0 1', ' Prompt  \\\\', ' (none)\\\\', \" 'inputnumber\", ' > \\\\\\r', ' Given x \\\\', ' 3  (', ' Enter Integer :']\n"
     ]
    },
    {
     "name": "stderr",
     "output_type": "stream",
     "text": [
      "Loss = 3.369: 100%|██████████| 1/1 [00:21<00:00, 21.68s/it]\n"
     ]
    },
    {
     "name": "stdout",
     "output_type": "stream",
     "text": [
      "Epoch 6. average loss = 3.369 / 0 / 100 correct (0.00%)\n"
     ]
    },
    {
     "name": "stderr",
     "output_type": "stream",
     "text": [
      "  0%|          | 0/1 [00:00<?, ?it/s]"
     ]
    },
    {
     "name": "stdout",
     "output_type": "stream",
     "text": [
      "population_pool: [' `{6', '  \\\\\\\\\\\\', ' \\\\\"[]', ' \"If a', '>0 1', ' Prompt  \\\\', ' (none)\\\\', \" 'inputnumber\", ' > \\\\\\r', ' Given x \\\\', ' 3  (', ' Enter Integer :']\n"
     ]
    },
    {
     "name": "stderr",
     "output_type": "stream",
     "text": [
      "Loss = 3.577: 100%|██████████| 1/1 [00:21<00:00, 21.72s/it]\n"
     ]
    },
    {
     "name": "stdout",
     "output_type": "stream",
     "text": [
      "Epoch 7. average loss = 3.577 / 0 / 100 correct (0.00%)\n"
     ]
    },
    {
     "name": "stderr",
     "output_type": "stream",
     "text": [
      "  0%|          | 0/1 [00:00<?, ?it/s]"
     ]
    },
    {
     "name": "stdout",
     "output_type": "stream",
     "text": [
      "population_pool: [' `{6', '  \\\\\\\\\\\\', ' \\\\\"[]', ' \"If a', '>0 1', ' Prompt  \\\\', \" 'input1\", ' (none)\\\\', ' > \\\\\\r', ' Given x \\\\', ' 3  (', ' Enter Integer :']\n"
     ]
    },
    {
     "name": "stderr",
     "output_type": "stream",
     "text": [
      "Loss = 3.602: 100%|██████████| 1/1 [00:21<00:00, 21.73s/it]\n"
     ]
    },
    {
     "name": "stdout",
     "output_type": "stream",
     "text": [
      "Epoch 8. average loss = 3.602 / 0 / 100 correct (0.00%)\n"
     ]
    },
    {
     "name": "stderr",
     "output_type": "stream",
     "text": [
      "  0%|          | 0/1 [00:00<?, ?it/s]"
     ]
    },
    {
     "name": "stdout",
     "output_type": "stream",
     "text": [
      "population_pool: [' `{6', '  \\\\\\\\\\\\', ' \\\\\"[]', ' \"If a', '>0 1', ' Prompt  \\\\', \" 'input1\", ' (none)\\\\', ' 3|Input', ' > \\\\\\r', ' Given x \\\\', ' Enter Integer :']\n"
     ]
    },
    {
     "name": "stderr",
     "output_type": "stream",
     "text": [
      "Loss = 3.577: 100%|██████████| 1/1 [00:21<00:00, 21.73s/it]\n"
     ]
    },
    {
     "name": "stdout",
     "output_type": "stream",
     "text": [
      "Epoch 9. average loss = 3.577 / 0 / 100 correct (0.00%)\n"
     ]
    },
    {
     "name": "stderr",
     "output_type": "stream",
     "text": [
      "  0%|          | 0/1 [00:00<?, ?it/s]"
     ]
    },
    {
     "name": "stdout",
     "output_type": "stream",
     "text": [
      "population_pool: [' `{6', '  \\\\\\\\\\\\', ' \\\\\"[]', ' \"If a', '>0 1', ' Prompt  \\\\', \" 'input1\", ' Given integers \\\\', ' (none)\\\\', ' 3|Input', ' > \\\\\\r', ' Enter Integer :']\n"
     ]
    },
    {
     "name": "stderr",
     "output_type": "stream",
     "text": [
      "Loss = 2.940: 100%|██████████| 1/1 [00:21<00:00, 21.74s/it]\n"
     ]
    },
    {
     "name": "stdout",
     "output_type": "stream",
     "text": [
      "Epoch 10. average loss = 2.940 / 0 / 100 correct (0.00%)\n"
     ]
    },
    {
     "name": "stderr",
     "output_type": "stream",
     "text": [
      "  0%|          | 0/1 [00:00<?, ?it/s]"
     ]
    },
    {
     "name": "stdout",
     "output_type": "stream",
     "text": [
      "population_pool: [' \\\\\"[1', ' `{6', '  \\\\\\\\\\\\', ' \"If a', '>0 1', ' Prompt  \\\\', \" 'input1\", ' Given integers \\\\', ' (none)\\\\', ' 3|Input', ' > \\\\\\r', ' Enter Integer :']\n"
     ]
    },
    {
     "name": "stderr",
     "output_type": "stream",
     "text": [
      "Loss = 2.940: 100%|██████████| 1/1 [00:21<00:00, 21.74s/it]\n"
     ]
    },
    {
     "name": "stdout",
     "output_type": "stream",
     "text": [
      "Epoch 11. average loss = 2.940 / 0 / 100 correct (0.00%)\n"
     ]
    },
    {
     "name": "stderr",
     "output_type": "stream",
     "text": [
      "  0%|          | 0/1 [00:00<?, ?it/s]"
     ]
    },
    {
     "name": "stdout",
     "output_type": "stream",
     "text": [
      "population_pool: [' \\\\\"[1', ' `{6', '  \\\\\\\\\\\\', ' \"If a', '>0 1', ' Prompt  \\\\', \" 'input1\", ' Given integers \\\\', ' (none)\\\\', ' 3|Input', ' > \\\\\\r', ' Enter Integer :']\n"
     ]
    },
    {
     "name": "stderr",
     "output_type": "stream",
     "text": [
      "Loss = 3.369: 100%|██████████| 1/1 [00:21<00:00, 21.78s/it]\n"
     ]
    },
    {
     "name": "stdout",
     "output_type": "stream",
     "text": [
      "Epoch 12. average loss = 3.369 / 0 / 100 correct (0.00%)\n"
     ]
    },
    {
     "name": "stderr",
     "output_type": "stream",
     "text": [
      "  0%|          | 0/1 [00:00<?, ?it/s]"
     ]
    },
    {
     "name": "stdout",
     "output_type": "stream",
     "text": [
      "population_pool: [' \\\\\"[1', ' `{6', ' Input Data:\\\\', '  \\\\\\\\\\\\', ' 5:\\\\t', ' \"If a', '>0 1', ' Prompt  \\\\', \" 'input1\", ' Given \"a', '\\r�\\\\\\\\', ' (none)\\\\']\n"
     ]
    },
    {
     "name": "stderr",
     "output_type": "stream",
     "text": [
      "Loss = 3.369: 100%|██████████| 1/1 [00:21<00:00, 21.74s/it]\n"
     ]
    },
    {
     "name": "stdout",
     "output_type": "stream",
     "text": [
      "Epoch 13. average loss = 3.369 / 0 / 100 correct (0.00%)\n"
     ]
    },
    {
     "name": "stderr",
     "output_type": "stream",
     "text": [
      "  0%|          | 0/1 [00:00<?, ?it/s]"
     ]
    },
    {
     "name": "stdout",
     "output_type": "stream",
     "text": [
      "population_pool: [' \\\\\"[1', ' `{6', ' Input Data:\\\\', '  \\\\\\\\\\\\', ' 5:\\\\t', ' Given \"1', '<br \\\\', ' \"1-', '>0 1', ' Prompt  \\\\', \" 'input1\", '\\r�\\\\\\\\']\n"
     ]
    },
    {
     "name": "stderr",
     "output_type": "stream",
     "text": [
      "Loss = 3.369: 100%|██████████| 1/1 [00:21<00:00, 21.74s/it]\n"
     ]
    },
    {
     "name": "stdout",
     "output_type": "stream",
     "text": [
      "Epoch 14. average loss = 3.369 / 0 / 100 correct (0.00%)\n"
     ]
    },
    {
     "name": "stderr",
     "output_type": "stream",
     "text": [
      "evaluating prefixes: 100%|██████████| 1/1 [00:32<00:00, 32.85s/it]"
     ]
    },
    {
     "name": "stdout",
     "output_type": "stream",
     "text": [
      "Final prefixes\n",
      "   index               prefix      loss  accuracy         prefix_str  \\\n",
      "0     55  (12578, 281, 18253)  2.499128      0.41   Print an integer   \n",
      "1     24   (4600, 16594, 257)  2.913220      0.41           `Write a   \n",
      "2     93   (19430, 257, 2446)  2.782746      0.39     Write a method   \n",
      "3      9     (11259, 366, 16)  2.886337      0.35           Given \"1   \n",
      "4     86   (19430, 257, 2163)  2.898065      0.35   Write a function   \n",
      "\n",
      "   n_queries  \n",
      "0          4  \n",
      "1          2  \n",
      "2          2  \n",
      "3          2  \n",
      "4         19  \n"
     ]
    },
    {
     "name": "stderr",
     "output_type": "stream",
     "text": [
      "\n"
     ]
    }
   ],
   "source": [
    "# explain the relationship between the inputs and outputs\n",
    "# with a natural-language prompt string\n",
    "prompts, metadata = explain_dataset_iprompt(\n",
    "    input_strings=input_strings,\n",
    "    output_strings=output_strings,\n",
    "    checkpoint='EleutherAI/gpt-j-6B', # which language model to use\n",
    "    num_learned_tokens=3, # how long of a prompt to learn\n",
    "\n",
    "    n_epochs=15, # how many epochs to search\n",
    "    verbose=0, # how much to print\n",
    "    llm_float16=True, # whether to load the model in float_16\n",
    ")"
   ]
  }
 ],
 "metadata": {
  "kernelspec": {
   "display_name": "Python 3.8.10 ('.embgam')",
   "language": "python",
   "name": "python3"
  },
  "language_info": {
   "codemirror_mode": {
    "name": "ipython",
    "version": 3
   },
   "file_extension": ".py",
   "mimetype": "text/x-python",
   "name": "python",
   "nbconvert_exporter": "python",
   "pygments_lexer": "ipython3",
   "version": "3.8.10"
  },
  "orig_nbformat": 4,
  "vscode": {
   "interpreter": {
    "hash": "559535f78d940c882783b39501b2581b5193373045707e5f8a51d046029cfd38"
   }
  }
 },
 "nbformat": 4,
 "nbformat_minor": 2
}
