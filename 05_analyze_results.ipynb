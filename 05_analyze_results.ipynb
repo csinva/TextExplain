{
 "cells": [
  {
   "cell_type": "code",
   "execution_count": 1,
   "metadata": {},
   "outputs": [],
   "source": [
    "%load_ext autoreload\n",
    "%autoreload 2\n",
    "from transformers import BertModel, DistilBertModel\n",
    "from transformers import pipeline\n",
    "from transformers import AutoTokenizer, AutoModelForSequenceClassification\n",
    "import datasets\n",
    "import numpy as np\n",
    "import os.path\n",
    "from datasets import load_from_disk\n",
    "import pickle as pkl\n",
    "from sklearn.linear_model import LogisticRegressionCV\n",
    "from collections import defaultdict\n",
    "from copy import deepcopy\n",
    "from tqdm import tqdm\n",
    "import dvu\n",
    "dvu.set_style()\n",
    "import pandas as pd\n",
    "import config\n",
    "from os.path import join as oj\n",
    "import matplotlib.pyplot as plt\n",
    "pd.set_option('display.max_rows', None)"
   ]
  },
  {
   "cell_type": "code",
   "execution_count": 5,
   "metadata": {},
   "outputs": [
    {
     "name": "stderr",
     "output_type": "stream",
     "text": [
      "100%|██████████| 134/134 [00:02<00:00, 51.43it/s]\n"
     ]
    }
   ],
   "source": [
    "# depending on how much is saved, this may take a while\n",
    "results_dir = oj(config.results_dir, 'sst2')\n",
    "dir_names = sorted([fname\n",
    "                    for fname in os.listdir(results_dir)\n",
    "                    if os.path.isdir(oj(results_dir, fname))\n",
    "                    and not '-norm' in fname\n",
    "                   ])\n",
    "# print(dir_names)\n",
    "\n",
    "results_list = [pd.Series(pkl.load(open(oj(results_dir, dir_name, 'results.pkl'), \"rb\")))\n",
    "                for dir_name in tqdm(dir_names)]\n",
    "r = pd.concat(results_list, axis=1).T.infer_objects().drop(columns='model')\n",
    "r = r.fillna('')\n",
    "r['all'] = r['all'].replace('True', 'all')\n",
    "# r['dataset'] = r['dataset'].replace('', 'sst2')"
   ]
  },
  {
   "cell_type": "code",
   "execution_count": null,
   "metadata": {},
   "outputs": [],
   "source": [
    "C = 3\n",
    "plt.figure(figsize=(8, 12))\n",
    "for i, subsample in enumerate([100, 1000, -1]):\n",
    "    plt.subplot(C, 1, i + 1)\n",
    "    plt.title('Num train=' + str(subsample))\n",
    "    d = r[r.subsample == subsample]\n",
    "    \n",
    "    curve = d.groupby(['checkpoint', 'all', 'norm'])\n",
    "    for key, group in curve:\n",
    "        g = group.sort_values('ngrams')\n",
    "        plt.plot(g.ngrams, g.acc_val, '.-',\n",
    "                 label=(\n",
    "                     ' '.join(key)\n",
    "                     .replace('textattack/bert-base-uncased-SST-2', 'bert-sst2')\n",
    "                     .replace('bert-base-uncased', 'bert')\n",
    "                 ))\n",
    "    plt.ylabel('Accuracy')\n",
    "    plt.xlabel('N-gram size')\n",
    "\n",
    "    \n",
    "#     plt.legend()\n",
    "    dvu.line_legend(fontsize=12)\n",
    "    \n",
    "plt.tight_layout()\n",
    "plt.savefig('results/acc_by_ngrams_sst.pdf')\n",
    "#     print(curve)"
   ]
  },
  {
   "cell_type": "code",
   "execution_count": null,
   "metadata": {},
   "outputs": [],
   "source": [
    "##### (\n",
    "r.sort_values(by=['subsample', 'acc_val'], ascending=False)\n",
    "#     .fillna('')\n",
    "#     .replace('', False)\n",
    "# )"
   ]
  }
 ],
 "metadata": {
  "kernelspec": {
   "display_name": "Python 3",
   "language": "python",
   "name": "python3"
  },
  "language_info": {
   "codemirror_mode": {
    "name": "ipython",
    "version": 3
   },
   "file_extension": ".py",
   "mimetype": "text/x-python",
   "name": "python",
   "nbconvert_exporter": "python",
   "pygments_lexer": "ipython3",
   "version": "3.8.3"
  }
 },
 "nbformat": 4,
 "nbformat_minor": 4
}
