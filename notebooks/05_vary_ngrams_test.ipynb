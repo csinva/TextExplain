{
 "cells": [
  {
   "cell_type": "code",
   "execution_count": 34,
   "metadata": {},
   "outputs": [
    {
     "name": "stdout",
     "output_type": "stream",
     "text": [
      "The autoreload extension is already loaded. To reload it, use:\n",
      "  %reload_ext autoreload\n"
     ]
    }
   ],
   "source": [
    "\"\"\"Note: this nb is self-contained, just requires the one saved pkl model in the results folder.\n",
    "The point is to see how the Emb-grams model does on unseen tokens at test-time.\n",
    "Specifically, we check the top-interacting words that exist in the test set but not in the train set.\n",
    "\"\"\"\n",
    "\n",
    "%load_ext autoreload\n",
    "%autoreload 2\n",
    "import torch\n",
    "from transformers import BertModel, DistilBertModel\n",
    "from transformers import pipeline\n",
    "from transformers import AutoTokenizer, AutoModelForSequenceClassification\n",
    "from sklearn.feature_extraction.text import CountVectorizer, TfidfVectorizer\n",
    "import datasets\n",
    "import numpy as np\n",
    "import os.path\n",
    "from spacy.lang.en import English\n",
    "from datasets import load_from_disk\n",
    "import pickle as pkl\n",
    "from sklearn.linear_model import LogisticRegressionCV\n",
    "from collections import defaultdict\n",
    "from copy import deepcopy\n",
    "from tqdm import tqdm\n",
    "import sys\n",
    "sys.path.append('..')\n",
    "import analyze_helper\n",
    "import dvu\n",
    "dvu.set_style()\n",
    "\n",
    "import pandas as pd\n",
    "from os.path import join as oj\n",
    "import string\n",
    "from typing import List\n",
    "import data\n",
    "import matplotlib.pyplot as plt\n",
    "import seaborn as sns\n",
    "import config\n",
    "pd.set_option('display.max_rows', None)"
   ]
  },
  {
   "cell_type": "code",
   "execution_count": 35,
   "metadata": {},
   "outputs": [
    {
     "data": {
      "text/html": [
       "<div>\n",
       "<style scoped>\n",
       "    .dataframe tbody tr th:only-of-type {\n",
       "        vertical-align: middle;\n",
       "    }\n",
       "\n",
       "    .dataframe tbody tr th {\n",
       "        vertical-align: top;\n",
       "    }\n",
       "\n",
       "    .dataframe thead th {\n",
       "        text-align: right;\n",
       "    }\n",
       "</style>\n",
       "<table border=\"1\" class=\"dataframe\">\n",
       "  <thead>\n",
       "    <tr style=\"text-align: right;\">\n",
       "      <th></th>\n",
       "      <th>checkpoint</th>\n",
       "      <th>ngrams</th>\n",
       "      <th>ngrams_test</th>\n",
       "      <th>subsample</th>\n",
       "      <th>all</th>\n",
       "      <th>norm</th>\n",
       "      <th>dataset</th>\n",
       "      <th>seed</th>\n",
       "      <th>layer</th>\n",
       "      <th>parsing</th>\n",
       "      <th>ignore_cache</th>\n",
       "      <th>padding</th>\n",
       "      <th>dataset_key_text</th>\n",
       "      <th>num_features</th>\n",
       "      <th>acc_train</th>\n",
       "      <th>acc_val</th>\n",
       "    </tr>\n",
       "  </thead>\n",
       "  <tbody>\n",
       "    <tr>\n",
       "      <th>0</th>\n",
       "      <td>nateraw/bert-base-uncased-emotion</td>\n",
       "      <td>1</td>\n",
       "      <td>1</td>\n",
       "      <td>-1</td>\n",
       "      <td>all</td>\n",
       "      <td></td>\n",
       "      <td>emotion</td>\n",
       "      <td>1</td>\n",
       "      <td>last_hidden_state_mean</td>\n",
       "      <td></td>\n",
       "      <td>True</td>\n",
       "      <td>True</td>\n",
       "      <td>text</td>\n",
       "      <td>768</td>\n",
       "      <td>0.907875</td>\n",
       "      <td>0.874</td>\n",
       "    </tr>\n",
       "    <tr>\n",
       "      <th>1</th>\n",
       "      <td>nateraw/bert-base-uncased-emotion</td>\n",
       "      <td>1</td>\n",
       "      <td>2</td>\n",
       "      <td>-1</td>\n",
       "      <td>all</td>\n",
       "      <td></td>\n",
       "      <td>emotion</td>\n",
       "      <td>1</td>\n",
       "      <td>last_hidden_state_mean</td>\n",
       "      <td></td>\n",
       "      <td>True</td>\n",
       "      <td>True</td>\n",
       "      <td>text</td>\n",
       "      <td>768</td>\n",
       "      <td>0.907875</td>\n",
       "      <td>0.846</td>\n",
       "    </tr>\n",
       "    <tr>\n",
       "      <th>2</th>\n",
       "      <td>nateraw/bert-base-uncased-emotion</td>\n",
       "      <td>1</td>\n",
       "      <td>3</td>\n",
       "      <td>-1</td>\n",
       "      <td>all</td>\n",
       "      <td></td>\n",
       "      <td>emotion</td>\n",
       "      <td>1</td>\n",
       "      <td>last_hidden_state_mean</td>\n",
       "      <td></td>\n",
       "      <td>True</td>\n",
       "      <td>True</td>\n",
       "      <td>text</td>\n",
       "      <td>768</td>\n",
       "      <td>0.907875</td>\n",
       "      <td>0.848</td>\n",
       "    </tr>\n",
       "    <tr>\n",
       "      <th>3</th>\n",
       "      <td>nateraw/bert-base-uncased-emotion</td>\n",
       "      <td>1</td>\n",
       "      <td>4</td>\n",
       "      <td>-1</td>\n",
       "      <td>all</td>\n",
       "      <td></td>\n",
       "      <td>emotion</td>\n",
       "      <td>1</td>\n",
       "      <td>last_hidden_state_mean</td>\n",
       "      <td></td>\n",
       "      <td>True</td>\n",
       "      <td>True</td>\n",
       "      <td>text</td>\n",
       "      <td>768</td>\n",
       "      <td>0.907875</td>\n",
       "      <td>0.851</td>\n",
       "    </tr>\n",
       "    <tr>\n",
       "      <th>4</th>\n",
       "      <td>nateraw/bert-base-uncased-emotion</td>\n",
       "      <td>1</td>\n",
       "      <td>5</td>\n",
       "      <td>-1</td>\n",
       "      <td>all</td>\n",
       "      <td></td>\n",
       "      <td>emotion</td>\n",
       "      <td>1</td>\n",
       "      <td>last_hidden_state_mean</td>\n",
       "      <td></td>\n",
       "      <td>False</td>\n",
       "      <td>True</td>\n",
       "      <td>text</td>\n",
       "      <td>768</td>\n",
       "      <td>0.907875</td>\n",
       "      <td>0.874</td>\n",
       "    </tr>\n",
       "  </tbody>\n",
       "</table>\n",
       "</div>"
      ],
      "text/plain": [
       "                          checkpoint  ngrams  ngrams_test  subsample  all  \\\n",
       "0  nateraw/bert-base-uncased-emotion       1            1         -1  all   \n",
       "1  nateraw/bert-base-uncased-emotion       1            2         -1  all   \n",
       "2  nateraw/bert-base-uncased-emotion       1            3         -1  all   \n",
       "3  nateraw/bert-base-uncased-emotion       1            4         -1  all   \n",
       "4  nateraw/bert-base-uncased-emotion       1            5         -1  all   \n",
       "\n",
       "  norm  dataset  seed                   layer parsing  ignore_cache  padding  \\\n",
       "0       emotion     1  last_hidden_state_mean                  True     True   \n",
       "1       emotion     1  last_hidden_state_mean                  True     True   \n",
       "2       emotion     1  last_hidden_state_mean                  True     True   \n",
       "3       emotion     1  last_hidden_state_mean                  True     True   \n",
       "4       emotion     1  last_hidden_state_mean                 False     True   \n",
       "\n",
       "  dataset_key_text  num_features  acc_train  acc_val  \n",
       "0             text           768   0.907875    0.874  \n",
       "1             text           768   0.907875    0.846  \n",
       "2             text           768   0.907875    0.848  \n",
       "3             text           768   0.907875    0.851  \n",
       "4             text           768   0.907875    0.874  "
      ]
     },
     "execution_count": 35,
     "metadata": {},
     "output_type": "execute_result"
    }
   ],
   "source": [
    "rs = pd.read_pickle(oj(config.results_dir, 'rs_vary_ngrams_test.pkl'))\n",
    "\n",
    "# rr, r_sem = analyze_helper.average_seeds(rs)\n",
    "rs.head()"
   ]
  },
  {
   "cell_type": "code",
   "execution_count": 37,
   "metadata": {},
   "outputs": [
    {
     "data": {
      "text/html": [
       "<div>\n",
       "<style scoped>\n",
       "    .dataframe tbody tr th:only-of-type {\n",
       "        vertical-align: middle;\n",
       "    }\n",
       "\n",
       "    .dataframe tbody tr th {\n",
       "        vertical-align: top;\n",
       "    }\n",
       "\n",
       "    .dataframe thead th {\n",
       "        text-align: right;\n",
       "    }\n",
       "</style>\n",
       "<table border=\"1\" class=\"dataframe\">\n",
       "  <thead>\n",
       "    <tr style=\"text-align: right;\">\n",
       "      <th></th>\n",
       "      <th>ngrams</th>\n",
       "      <th>ngrams_test</th>\n",
       "      <th>acc_val</th>\n",
       "    </tr>\n",
       "  </thead>\n",
       "  <tbody>\n",
       "    <tr>\n",
       "      <th>0</th>\n",
       "      <td>1</td>\n",
       "      <td>1</td>\n",
       "      <td>0.874</td>\n",
       "    </tr>\n",
       "    <tr>\n",
       "      <th>1</th>\n",
       "      <td>1</td>\n",
       "      <td>2</td>\n",
       "      <td>0.846</td>\n",
       "    </tr>\n",
       "    <tr>\n",
       "      <th>2</th>\n",
       "      <td>1</td>\n",
       "      <td>3</td>\n",
       "      <td>0.848</td>\n",
       "    </tr>\n",
       "    <tr>\n",
       "      <th>3</th>\n",
       "      <td>1</td>\n",
       "      <td>4</td>\n",
       "      <td>0.851</td>\n",
       "    </tr>\n",
       "    <tr>\n",
       "      <th>4</th>\n",
       "      <td>1</td>\n",
       "      <td>5</td>\n",
       "      <td>0.874</td>\n",
       "    </tr>\n",
       "  </tbody>\n",
       "</table>\n",
       "</div>"
      ],
      "text/plain": [
       "   ngrams  ngrams_test  acc_val\n",
       "0       1            1    0.874\n",
       "1       1            2    0.846\n",
       "2       1            3    0.848\n",
       "3       1            4    0.851\n",
       "4       1            5    0.874"
      ]
     },
     "execution_count": 37,
     "metadata": {},
     "output_type": "execute_result"
    }
   ],
   "source": [
    "dset = 'emotion'\n",
    "d = rs[rs.dataset == dset]\n",
    "d[['ngrams', 'ngrams_test', 'acc_val']].head()"
   ]
  },
  {
   "cell_type": "code",
   "execution_count": 38,
   "metadata": {},
   "outputs": [
    {
     "name": "stdout",
     "output_type": "stream",
     "text": [
      "skipped 3 2 shape 0\n",
      "skipped 3 3 shape 0\n",
      "skipped 3 4 shape 0\n",
      "skipped 3 6 shape 0\n",
      "skipped 4 0 shape 0\n",
      "skipped 4 1 shape 0\n",
      "skipped 4 2 shape 0\n"
     ]
    }
   ],
   "source": [
    "N = 7\n",
    "heatmap = np.zeros((N, N))\n",
    "for i in range(N):\n",
    "    for j in range(N):\n",
    "        row = d[\n",
    "            (d.ngrams == i + 1) & (d.ngrams_test == j + 1)\n",
    "        ]\n",
    "        # print(row.shape)\n",
    "        if row.shape[0] == 1:\n",
    "            heatmap[i, j] = row['acc_val']\n",
    "        else:\n",
    "            print('skipped', i, j, 'shape', row.shape[0])\n"
   ]
  },
  {
   "cell_type": "code",
   "execution_count": 39,
   "metadata": {},
   "outputs": [
    {
     "data": {
      "text/plain": [
       "Text(0.5, 23.52222222222222, 'Order testing')"
      ]
     },
     "execution_count": 39,
     "metadata": {},
     "output_type": "execute_result"
    },
    {
     "data": {
      "image/png": "[encoded data removed]",
      "text/plain": [
       "<Figure size 640x480 with 2 Axes>"
      ]
     },
     "metadata": {},
     "output_type": "display_data"
    }
   ],
   "source": [
    "sns.heatmap(heatmap, annot=True)\n",
    "plt.ylabel('Order train')\n",
    "plt.xlabel('Order testing')"
   ]
  },
  {
   "cell_type": "code",
   "execution_count": null,
   "metadata": {},
   "outputs": [],
   "source": []
  }
 ],
 "metadata": {
  "kernelspec": {
   "display_name": "Python 3.8.10 ('.embgam')",
   "language": "python",
   "name": "python3"
  },
  "language_info": {
   "codemirror_mode": {
    "name": "ipython",
    "version": 3
   },
   "file_extension": ".py",
   "mimetype": "text/x-python",
   "name": "python",
   "nbconvert_exporter": "python",
   "pygments_lexer": "ipython3",
   "version": "3.8.10"
  },
  "vscode": {
   "interpreter": {
    "hash": "1706cf08143e086ec5bb3838ad8d537cfb8b4c6b8cff053a62227f927355451f"
   }
  }
 },
 "nbformat": 4,
 "nbformat_minor": 4
}
