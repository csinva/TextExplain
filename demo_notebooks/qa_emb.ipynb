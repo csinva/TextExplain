{
 "cells": [
  {
   "cell_type": "code",
   "execution_count": 5,
   "metadata": {},
   "outputs": [
    {
     "name": "stdout",
     "output_type": "stream",
     "text": [
      "The autoreload extension is already loaded. To reload it, use:\n",
      "  %reload_ext autoreload\n"
     ]
    }
   ],
   "source": [
    "%load_ext autoreload\n",
    "%autoreload 2\n",
    "from imodelsx import QAEmb\n",
    "import pandas as pd"
   ]
  },
  {
   "cell_type": "code",
   "execution_count": 9,
   "metadata": {},
   "outputs": [
    {
     "data": {
      "application/vnd.jupyter.widget-view+json": {
       "model_id": "81117b5e5157464b818a384263324091",
       "version_major": 2,
       "version_minor": 0
      },
      "text/plain": [
       "Loading checkpoint shards:   0%|          | 0/4 [00:00<?, ?it/s]"
      ]
     },
     "metadata": {},
     "output_type": "display_data"
    },
    {
     "name": "stderr",
     "output_type": "stream",
     "text": [
      "Special tokens have been added in the vocabulary, make sure the associated word embeddings are fine-tuned or trained.\n",
      "  0%|          | 0/1 [00:00<?, ?it/s]Setting `pad_token_id` to `eos_token_id`:128001 for open-end generation.\n",
      "Setting `pad_token_id` to `eos_token_id`:128001 for open-end generation.\n",
      "Setting `pad_token_id` to `eos_token_id`:128001 for open-end generation.\n",
      "100%|██████████| 1/1 [00:00<00:00,  1.96it/s]\n"
     ]
    }
   ],
   "source": [
    "questions = [\n",
    "    'Is the input related to food preparation?',\n",
    "    'Does the input mention laughter?',\n",
    "    'Is there an expression of surprise?',\n",
    "    'Is there a depiction of a routine or habit?',\n",
    "    'Does the sentence contain stuttering?',\n",
    "    'Does the input contain a first-person pronoun?',\n",
    "]\n",
    "examples = [\n",
    "    'i sliced some cucumbers and then moved on to what was next',\n",
    "    'the kids were giggling about the silly things they did',\n",
    "    'and i was like whoa that was unexpected',\n",
    "    'walked down the path like i always did',\n",
    "    'um no um then it was all clear',\n",
    "    'i was walking to school and then i saw a cat',\n",
    "]\n",
    "\n",
    "checkpoint = 'meta-llama/Meta-Llama-3-8B-Instruct'\n",
    "\n",
    "embedder = QAEmb(\n",
    "    questions=questions, checkpoint=checkpoint, use_cache=False)\n",
    "embeddings = embedder(examples)"
   ]
  },
  {
   "cell_type": "code",
   "execution_count": 12,
   "metadata": {},
   "outputs": [
    {
     "data": {
      "text/plain": [
       "(6, 6)"
      ]
     },
     "execution_count": 12,
     "metadata": {},
     "output_type": "execute_result"
    }
   ],
   "source": [
    "# embeddings is an np array\n",
    "# each row is a a binary embedding for one example\n",
    "# each column is the answer to a yes/no question converted to 1/0\n",
    "embeddings.shape"
   ]
  },
  {
   "cell_type": "markdown",
   "metadata": {},
   "source": [
    "### Let's look at the embeddings"
   ]
  },
  {
   "cell_type": "code",
   "execution_count": 17,
   "metadata": {},
   "outputs": [
    {
     "data": {
      "text/html": [
       "<style type=\"text/css\">\n",
       "#T_a1966_row0_col0, #T_a1966_row0_col2, #T_a1966_row0_col3, #T_a1966_row0_col5, #T_a1966_row1_col1, #T_a1966_row1_col2, #T_a1966_row1_col3, #T_a1966_row2_col1, #T_a1966_row2_col2, #T_a1966_row2_col3, #T_a1966_row2_col4, #T_a1966_row2_col5, #T_a1966_row3_col3, #T_a1966_row3_col5, #T_a1966_row4_col2, #T_a1966_row4_col3, #T_a1966_row4_col4, #T_a1966_row4_col5, #T_a1966_row5_col2, #T_a1966_row5_col3, #T_a1966_row5_col5 {\n",
       "  background-color: #023858;\n",
       "  color: #f1f1f1;\n",
       "}\n",
       "#T_a1966_row0_col1, #T_a1966_row0_col4, #T_a1966_row1_col0, #T_a1966_row1_col4, #T_a1966_row1_col5, #T_a1966_row2_col0, #T_a1966_row3_col0, #T_a1966_row3_col1, #T_a1966_row3_col2, #T_a1966_row3_col4, #T_a1966_row4_col0, #T_a1966_row4_col1, #T_a1966_row5_col0, #T_a1966_row5_col1, #T_a1966_row5_col4 {\n",
       "  background-color: #fff7fb;\n",
       "  color: #000000;\n",
       "}\n",
       "</style>\n",
       "<table id=\"T_a1966\">\n",
       "  <thead>\n",
       "    <tr>\n",
       "      <th class=\"index_name level0\" >Question (abbreviated)</th>\n",
       "      <th id=\"T_a1966_level0_col0\" class=\"col_heading level0 col0\" >preparation?</th>\n",
       "      <th id=\"T_a1966_level0_col1\" class=\"col_heading level0 col1\" >laughter?</th>\n",
       "      <th id=\"T_a1966_level0_col2\" class=\"col_heading level0 col2\" >surprise?</th>\n",
       "      <th id=\"T_a1966_level0_col3\" class=\"col_heading level0 col3\" >habit?</th>\n",
       "      <th id=\"T_a1966_level0_col4\" class=\"col_heading level0 col4\" >stuttering?</th>\n",
       "      <th id=\"T_a1966_level0_col5\" class=\"col_heading level0 col5\" >pronoun?</th>\n",
       "    </tr>\n",
       "  </thead>\n",
       "  <tbody>\n",
       "    <tr>\n",
       "      <th id=\"T_a1966_level0_row0\" class=\"row_heading level0 row0\" >i sliced some cucumbers and then moved on to what was next</th>\n",
       "      <td id=\"T_a1966_row0_col0\" class=\"data row0 col0\" >1</td>\n",
       "      <td id=\"T_a1966_row0_col1\" class=\"data row0 col1\" >0</td>\n",
       "      <td id=\"T_a1966_row0_col2\" class=\"data row0 col2\" >1</td>\n",
       "      <td id=\"T_a1966_row0_col3\" class=\"data row0 col3\" >1</td>\n",
       "      <td id=\"T_a1966_row0_col4\" class=\"data row0 col4\" >0</td>\n",
       "      <td id=\"T_a1966_row0_col5\" class=\"data row0 col5\" >1</td>\n",
       "    </tr>\n",
       "    <tr>\n",
       "      <th id=\"T_a1966_level0_row1\" class=\"row_heading level0 row1\" >the kids were giggling about the silly things they did</th>\n",
       "      <td id=\"T_a1966_row1_col0\" class=\"data row1 col0\" >0</td>\n",
       "      <td id=\"T_a1966_row1_col1\" class=\"data row1 col1\" >1</td>\n",
       "      <td id=\"T_a1966_row1_col2\" class=\"data row1 col2\" >1</td>\n",
       "      <td id=\"T_a1966_row1_col3\" class=\"data row1 col3\" >1</td>\n",
       "      <td id=\"T_a1966_row1_col4\" class=\"data row1 col4\" >0</td>\n",
       "      <td id=\"T_a1966_row1_col5\" class=\"data row1 col5\" >0</td>\n",
       "    </tr>\n",
       "    <tr>\n",
       "      <th id=\"T_a1966_level0_row2\" class=\"row_heading level0 row2\" >and i was like whoa that was unexpected</th>\n",
       "      <td id=\"T_a1966_row2_col0\" class=\"data row2 col0\" >0</td>\n",
       "      <td id=\"T_a1966_row2_col1\" class=\"data row2 col1\" >1</td>\n",
       "      <td id=\"T_a1966_row2_col2\" class=\"data row2 col2\" >1</td>\n",
       "      <td id=\"T_a1966_row2_col3\" class=\"data row2 col3\" >1</td>\n",
       "      <td id=\"T_a1966_row2_col4\" class=\"data row2 col4\" >1</td>\n",
       "      <td id=\"T_a1966_row2_col5\" class=\"data row2 col5\" >1</td>\n",
       "    </tr>\n",
       "    <tr>\n",
       "      <th id=\"T_a1966_level0_row3\" class=\"row_heading level0 row3\" >walked down the path like i always did</th>\n",
       "      <td id=\"T_a1966_row3_col0\" class=\"data row3 col0\" >0</td>\n",
       "      <td id=\"T_a1966_row3_col1\" class=\"data row3 col1\" >0</td>\n",
       "      <td id=\"T_a1966_row3_col2\" class=\"data row3 col2\" >0</td>\n",
       "      <td id=\"T_a1966_row3_col3\" class=\"data row3 col3\" >1</td>\n",
       "      <td id=\"T_a1966_row3_col4\" class=\"data row3 col4\" >0</td>\n",
       "      <td id=\"T_a1966_row3_col5\" class=\"data row3 col5\" >1</td>\n",
       "    </tr>\n",
       "    <tr>\n",
       "      <th id=\"T_a1966_level0_row4\" class=\"row_heading level0 row4\" >um no um then it was all clear</th>\n",
       "      <td id=\"T_a1966_row4_col0\" class=\"data row4 col0\" >0</td>\n",
       "      <td id=\"T_a1966_row4_col1\" class=\"data row4 col1\" >0</td>\n",
       "      <td id=\"T_a1966_row4_col2\" class=\"data row4 col2\" >1</td>\n",
       "      <td id=\"T_a1966_row4_col3\" class=\"data row4 col3\" >1</td>\n",
       "      <td id=\"T_a1966_row4_col4\" class=\"data row4 col4\" >1</td>\n",
       "      <td id=\"T_a1966_row4_col5\" class=\"data row4 col5\" >1</td>\n",
       "    </tr>\n",
       "    <tr>\n",
       "      <th id=\"T_a1966_level0_row5\" class=\"row_heading level0 row5\" >i was walking to school and then i saw a cat</th>\n",
       "      <td id=\"T_a1966_row5_col0\" class=\"data row5 col0\" >0</td>\n",
       "      <td id=\"T_a1966_row5_col1\" class=\"data row5 col1\" >0</td>\n",
       "      <td id=\"T_a1966_row5_col2\" class=\"data row5 col2\" >1</td>\n",
       "      <td id=\"T_a1966_row5_col3\" class=\"data row5 col3\" >1</td>\n",
       "      <td id=\"T_a1966_row5_col4\" class=\"data row5 col4\" >0</td>\n",
       "      <td id=\"T_a1966_row5_col5\" class=\"data row5 col5\" >1</td>\n",
       "    </tr>\n",
       "  </tbody>\n",
       "</table>\n"
      ],
      "text/plain": [
       "<pandas.io.formats.style.Styler at 0x7f4cea89ea50>"
      ]
     },
     "metadata": {},
     "output_type": "display_data"
    }
   ],
   "source": [
    "df = pd.DataFrame(embeddings.astype(int), columns=[\n",
    "    q.split()[-1] for q in questions])\n",
    "df.index = examples\n",
    "df.columns.name = 'Question (abbreviated)'\n",
    "display(df.style.background_gradient(axis=None))"
   ]
  }
 ],
 "metadata": {
  "kernelspec": {
   "display_name": ".venv",
   "language": "python",
   "name": "python3"
  },
  "language_info": {
   "codemirror_mode": {
    "name": "ipython",
    "version": 3
   },
   "file_extension": ".py",
   "mimetype": "text/x-python",
   "name": "python",
   "nbconvert_exporter": "python",
   "pygments_lexer": "ipython3",
   "version": "3.11.9"
  }
 },
 "nbformat": 4,
 "nbformat_minor": 2
}
