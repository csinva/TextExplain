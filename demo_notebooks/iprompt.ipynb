{
 "cells": [
  {
   "cell_type": "code",
   "execution_count": null,
   "metadata": {},
   "outputs": [],
   "source": [
    "%load_ext autoreload\n",
    "%autoreload 2\n",
    "from imodelsx import explain_dataset_iprompt, get_add_two_numbers_dataset\n",
    "\n",
    "# get a simple dataset of adding two numbers\n",
    "input_strings, output_strings = get_add_two_numbers_dataset(num_examples=100)\n",
    "for i in range(5):\n",
    "    print(repr(input_strings[i]), repr(output_strings[i]))"
   ]
  },
  {
   "cell_type": "code",
   "execution_count": null,
   "metadata": {},
   "outputs": [],
   "source": [
    "# explain the relationship between the inputs and outputs\n",
    "# with a natural-language prompt string\n",
    "prompts, metadata = explain_dataset_iprompt(\n",
    "    input_strings=input_strings,\n",
    "    output_strings=output_strings,\n",
    "    checkpoint='EleutherAI/gpt-j-6B', # which language model to use\n",
    "    num_learned_tokens=6, # how long of a prompt to learn\n",
    "    n_shots=3, # shots per example\n",
    "\n",
    "    n_epochs=15, # how many epochs to search\n",
    "    max_n_datapoints=1000, # limit to using this many datapoints in search\n",
    "    verbose=0, # how much to print\n",
    "    llm_float16=True, # whether to load the model in float_16\n",
    ")"
   ]
  }
 ],
 "metadata": {
  "kernelspec": {
   "display_name": ".llm",
   "language": "python",
   "name": "python3"
  },
  "language_info": {
   "codemirror_mode": {
    "name": "ipython",
    "version": 3
   },
   "file_extension": ".py",
   "mimetype": "text/x-python",
   "name": "python",
   "nbconvert_exporter": "python",
   "pygments_lexer": "ipython3",
   "version": "3.9.5"
  },
  "orig_nbformat": 4,
  "vscode": {
   "interpreter": {
    "hash": "a9ff692d44ea03fd8a03facee7621117bbbb82def09bacaacf0a2cbc238b7b91"
   }
  }
 },
 "nbformat": 4,
 "nbformat_minor": 2
}
