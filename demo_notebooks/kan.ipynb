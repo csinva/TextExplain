{
 "cells": [
  {
   "cell_type": "code",
   "execution_count": 3,
   "metadata": {},
   "outputs": [
    {
     "name": "stderr",
     "output_type": "stream",
     "text": [
      "  0%|          | 0/100 [00:00<?, ?it/s]"
     ]
    },
    {
     "name": "stderr",
     "output_type": "stream",
     "text": [
      "100%|██████████| 100/100 [00:09<00:00, 10.13it/s]\n"
     ]
    },
    {
     "name": "stdout",
     "output_type": "stream",
     "text": [
      "Train correlation 0.8224653573679914\n"
     ]
    },
    {
     "name": "stderr",
     "output_type": "stream",
     "text": [
      " 57%|█████▋    | 57/100 [00:05<00:04,  9.97it/s]\n"
     ]
    },
    {
     "name": "stdout",
     "output_type": "stream",
     "text": [
      "Early stopping\n",
      "TesTraint acc 0.6086\n"
     ]
    }
   ],
   "source": [
    "# !pip install imodelsx\n",
    "import imodelsx\n",
    "from sklearn.datasets import make_classification, make_regression\n",
    "from sklearn.metrics import accuracy_score\n",
    "import numpy as np\n",
    "\n",
    "# try regression\n",
    "X, y = make_regression(n_samples=5000, n_features=5, n_informative=3)\n",
    "model = imodelsx.KANRegressor(hidden_layer_size=64, device='cpu',\n",
    "                              regularize_activation=1.0, regularize_entropy=1.0)\n",
    "model.fit(X, y)\n",
    "y_pred = model.predict(X)\n",
    "print('Train correlation', np.corrcoef(y, y_pred.flatten())[0, 1])\n",
    "\n",
    "# try classification\n",
    "X, y = make_classification(n_samples=5000, n_features=5, n_informative=3)\n",
    "model = imodelsx.KANClassifier(hidden_layer_size=64, device='cpu',\n",
    "                               regularize_activation=1.0, regularize_entropy=1.0)\n",
    "model.fit(X, y)\n",
    "y_pred = model.predict(X)\n",
    "print('Train acc', accuracy_score(y, y_pred))"
   ]
  },
  {
   "cell_type": "code",
   "execution_count": 4,
   "metadata": {},
   "outputs": [],
   "source": [
    "pred_probas = model.predict_proba(X)"
   ]
  }
 ],
 "metadata": {
  "kernelspec": {
   "display_name": ".venv",
   "language": "python",
   "name": "python3"
  },
  "language_info": {
   "codemirror_mode": {
    "name": "ipython",
    "version": 3
   },
   "file_extension": ".py",
   "mimetype": "text/x-python",
   "name": "python",
   "nbconvert_exporter": "python",
   "pygments_lexer": "ipython3",
   "version": "3.11.9"
  }
 },
 "nbformat": 4,
 "nbformat_minor": 2
}
