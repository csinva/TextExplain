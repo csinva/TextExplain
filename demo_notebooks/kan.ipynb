{
 "cells": [
  {
   "cell_type": "code",
   "execution_count": 2,
   "metadata": {},
   "outputs": [
    {
     "name": "stderr",
     "output_type": "stream",
     "text": [
      "100%|██████████| 100/100 [00:12<00:00,  8.30it/s]\n"
     ]
    },
    {
     "name": "stdout",
     "output_type": "stream",
     "text": [
      "Train correlation 0.3372883256686611\n"
     ]
    },
    {
     "name": "stderr",
     "output_type": "stream",
     "text": [
      "100%|██████████| 100/100 [00:06<00:00, 15.32it/s]"
     ]
    },
    {
     "name": "stdout",
     "output_type": "stream",
     "text": [
      "Train acc 0.723\n"
     ]
    },
    {
     "name": "stderr",
     "output_type": "stream",
     "text": [
      "\n"
     ]
    }
   ],
   "source": [
    "# !pip install imodelsx\n",
    "import imodelsx\n",
    "from sklearn.datasets import make_classification, make_regression\n",
    "from sklearn.metrics import accuracy_score\n",
    "import numpy as np\n",
    "\n",
    "# try regression\n",
    "device = 'cuda'\n",
    "X, y = make_regression(n_samples=1000, n_features=5, n_informative=3)\n",
    "model = imodelsx.KANRegressor(hidden_layer_size=64, device=device,\n",
    "                              regularize_activation=1.0, regularize_entropy=1.0)\n",
    "model.fit(X, y)\n",
    "y_pred = model.predict(X)\n",
    "print('Train correlation', np.corrcoef(y, y_pred.flatten())[0, 1])\n",
    "\n",
    "# try classification\n",
    "X, y = make_classification(n_samples=1000, n_features=5, n_informative=3)\n",
    "model = imodelsx.KANClassifier(hidden_layer_size=64, device=device,\n",
    "                               regularize_activation=1.0, regularize_entropy=1.0)\n",
    "model.fit(X, y)\n",
    "y_pred = model.predict(X)\n",
    "pred_probas = model.predict_proba(X)\n",
    "print('Train acc', accuracy_score(y, y_pred))"
   ]
  },
  {
   "cell_type": "code",
   "execution_count": 4,
   "metadata": {},
   "outputs": [
    {
     "name": "stderr",
     "output_type": "stream",
     "text": [
      "100%|██████████| 100/100 [00:19<00:00,  5.22it/s]\n"
     ]
    },
    {
     "name": "stdout",
     "output_type": "stream",
     "text": [
      "Train acc 0.751\n"
     ]
    }
   ],
   "source": [
    "# there are a lot params we can pass, here is the quick list and their default values:\n",
    "# regularize_activation=1.0\n",
    "# regularize_entropy=1.0\n",
    "# regularize_ridge=0.0\n",
    "# grid_size=5,\n",
    "# spline_order=3,\n",
    "# scale_noise=0.1,\n",
    "# scale_base=1.0,\n",
    "# scale_spline=1.0,\n",
    "# base_activation=torch.nn.SiLU,\n",
    "# grid_eps=0.02,\n",
    "# grid_range=[-1, 1],\n",
    "model = imodelsx.KANClassifier(hidden_layer_size=64, device=device,\n",
    "                               regularize_activation=1.0, regularize_entropy=1.0, spline_order=5)\n",
    "model.fit(X, y)\n",
    "y_pred = model.predict(X)\n",
    "pred_probas = model.predict_proba(X)\n",
    "print('Train acc', accuracy_score(y, y_pred))"
   ]
  }
 ],
 "metadata": {
  "kernelspec": {
   "display_name": ".venv",
   "language": "python",
   "name": "python3"
  },
  "language_info": {
   "codemirror_mode": {
    "name": "ipython",
    "version": 3
   },
   "file_extension": ".py",
   "mimetype": "text/x-python",
   "name": "python",
   "nbconvert_exporter": "python",
   "pygments_lexer": "ipython3",
   "version": "3.11.9"
  }
 },
 "nbformat": 4,
 "nbformat_minor": 2
}
