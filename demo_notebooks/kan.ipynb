{
 "cells": [
  {
   "cell_type": "code",
   "execution_count": 1,
   "metadata": {},
   "outputs": [
    {
     "name": "stderr",
     "output_type": "stream",
     "text": [
      " 59%|█████▉    | 59/100 [00:05<00:03, 10.42it/s]\n"
     ]
    },
    {
     "name": "stdout",
     "output_type": "stream",
     "text": [
      "Early stopping\n",
      "Test acc 0.6938\n"
     ]
    },
    {
     "ename": "AttributeError",
     "evalue": "module 'imodelsx.kan' has no attribute 'KANRegressor'",
     "output_type": "error",
     "traceback": [
      "\u001b[0;31m---------------------------------------------------------------------------\u001b[0m",
      "\u001b[0;31mAttributeError\u001b[0m                            Traceback (most recent call last)",
      "Cell \u001b[0;32mIn[1], line 16\u001b[0m\n\u001b[1;32m     14\u001b[0m \u001b[38;5;66;03m# now try regression\u001b[39;00m\n\u001b[1;32m     15\u001b[0m X, y \u001b[38;5;241m=\u001b[39m make_regression(n_samples\u001b[38;5;241m=\u001b[39m\u001b[38;5;241m5000\u001b[39m, n_features\u001b[38;5;241m=\u001b[39m\u001b[38;5;241m5\u001b[39m, n_informative\u001b[38;5;241m=\u001b[39m\u001b[38;5;241m3\u001b[39m)\n\u001b[0;32m---> 16\u001b[0m model \u001b[38;5;241m=\u001b[39m \u001b[43mimodelsx\u001b[49m\u001b[38;5;241;43m.\u001b[39;49m\u001b[43mkan\u001b[49m\u001b[38;5;241;43m.\u001b[39;49m\u001b[43mKANRegressor\u001b[49m(hidden_layer_size\u001b[38;5;241m=\u001b[39m\u001b[38;5;241m64\u001b[39m, device\u001b[38;5;241m=\u001b[39m\u001b[38;5;124m'\u001b[39m\u001b[38;5;124mcpu\u001b[39m\u001b[38;5;124m'\u001b[39m,\n\u001b[1;32m     17\u001b[0m                                   regularize_activation\u001b[38;5;241m=\u001b[39m\u001b[38;5;241m1.0\u001b[39m, regularize_entropy\u001b[38;5;241m=\u001b[39m\u001b[38;5;241m1.0\u001b[39m)\n\u001b[1;32m     18\u001b[0m model\u001b[38;5;241m.\u001b[39mfit(X, y)\n\u001b[1;32m     19\u001b[0m y_pred \u001b[38;5;241m=\u001b[39m model\u001b[38;5;241m.\u001b[39mpredict(X)\n",
      "\u001b[0;31mAttributeError\u001b[0m: module 'imodelsx.kan' has no attribute 'KANRegressor'"
     ]
    }
   ],
   "source": [
    "# !pip install imodelsx\n",
    "import imodelsx\n",
    "from sklearn.datasets import make_classification, make_regression\n",
    "from sklearn.metrics import accuracy_score\n",
    "import numpy as np\n",
    "\n",
    "X, y = make_classification(n_samples=5000, n_features=5, n_informative=3)\n",
    "model = imodelsx.KANClassifier(hidden_layer_size=64, device='cpu',\n",
    "                               regularize_activation=1.0, regularize_entropy=1.0)\n",
    "model.fit(X, y)\n",
    "y_pred = model.predict(X)\n",
    "print('Test acc', accuracy_score(y, y_pred))\n",
    "\n",
    "# now try regression\n",
    "X, y = make_regression(n_samples=5000, n_features=5, n_informative=3)\n",
    "model = imodelsx.kan.KANRegressor(hidden_layer_size=64, device='cpu',\n",
    "                                  regularize_activation=1.0, regularize_entropy=1.0)\n",
    "model.fit(X, y)\n",
    "y_pred = model.predict(X)\n",
    "print('Test correlation', np.corrcoef(y, y_pred.flatten())[0, 1])"
   ]
  }
 ],
 "metadata": {
  "kernelspec": {
   "display_name": ".venv",
   "language": "python",
   "name": "python3"
  },
  "language_info": {
   "codemirror_mode": {
    "name": "ipython",
    "version": 3
   },
   "file_extension": ".py",
   "mimetype": "text/x-python",
   "name": "python",
   "nbconvert_exporter": "python",
   "pygments_lexer": "ipython3",
   "version": "3.11.9"
  }
 },
 "nbformat": 4,
 "nbformat_minor": 2
}
