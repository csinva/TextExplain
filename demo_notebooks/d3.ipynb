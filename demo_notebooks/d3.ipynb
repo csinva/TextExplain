{
 "cells": [
  {
   "cell_type": "code",
   "execution_count": null,
   "metadata": {},
   "outputs": [],
   "source": [
    "import os\n",
    "import random\n",
    "import pickle as pkl\n",
    "import json\n",
    "from typing import List\n",
    "import tqdm\n",
    "import imodelsx\n",
    "\n",
    "\n",
    "# distribution_pairs = json.load(open('benchmark.json'))\n",
    "positive_samples = [\n",
    "    \"How much in miles is a ten K run?\",\n",
    "    \"When is the Jimmy Buffett concert coming to the E center in Camden NJ?\",\n",
    "    \"What chapter of Gone with the Wind has Rhett Butler leaving Scarlett O 'Hara?\",\n",
    "    \"What is the latitude and longitude of El Paso, Texas?\",\n",
    "    \"How old was Elvis Presley when he died?\"\n",
    "]\n",
    "\n",
    "negative_samples = [\n",
    "    \"What is the daily requirement of folic acid for an expectant mother?\",\n",
    "    \"What type of bridge is the Golden Gate Bridge?\",\n",
    "    \"Where do the Blackhawks maintain their operations?\",\n",
    "    \"What attorneys work for The Center for the Defense of Free Enterprise?\",\n",
    "    \"What college football team did Knute Rockne build into a power?\"\n",
    "]\n",
    "\n",
    "hypotheses, hypothesis_scores = imodelsx.explain_dataset_d3(\n",
    "    pos=positive_samples, # List[str] of positive examples\n",
    "    neg=negative_samples, # another List[str]\n",
    "    num_steps=100,\n",
    "    num_folds=2,\n",
    "    batch_size=64,\n",
    ")\n",
    "\n",
    "print('learned hypotheses', hypotheses)\n",
    "print('corresponding scores', hypothesis_scores)\n",
    "\n",
    "pkl.dump({'hypotheses': hypotheses, 'hypothesis_scores': hypothesis_scores},\n",
    "            open('example_results.pkl', 'wb'))"
   ]
  }
 ],
 "metadata": {
  "kernelspec": {
   "display_name": ".venv",
   "language": "python",
   "name": "python3"
  },
  "language_info": {
   "codemirror_mode": {
    "name": "ipython",
    "version": 3
   },
   "file_extension": ".py",
   "mimetype": "text/x-python",
   "name": "python",
   "nbconvert_exporter": "python",
   "pygments_lexer": "ipython3",
   "version": "3.11.3"
  },
  "orig_nbformat": 4
 },
 "nbformat": 4,
 "nbformat_minor": 2
}
