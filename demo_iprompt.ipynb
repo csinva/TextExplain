{
 "cells": [
  {
   "cell_type": "markdown",
   "metadata": {},
   "source": [
    "This notebook shows a simple demo of how to use `EmbGAMClassifier`. It follows a simple sklearn-style interface, but leverage language models to extract embeddings, so may be slow to run during training. At test time, it converts to a simple linear model, making it extremely fast."
   ]
  },
  {
   "cell_type": "code",
   "execution_count": 38,
   "metadata": {},
   "outputs": [
    {
     "name": "stdout",
     "output_type": "stream",
     "text": [
      "The autoreload extension is already loaded. To reload it, use:\n",
      "  %reload_ext autoreload\n"
     ]
    }
   ],
   "source": [
    "%load_ext autoreload\n",
    "%autoreload 2\n",
    "from imodelsx import explain_dataset_iprompt\n",
    "import datasets\n",
    "import numpy as np\n",
    "from imodelsx.iprompt.data import get_add_two_dataset"
   ]
  },
  {
   "cell_type": "code",
   "execution_count": 42,
   "metadata": {},
   "outputs": [
    {
     "name": "stdout",
     "output_type": "stream",
     "text": [
      "'Given the input numbers 13 and 10, the answer is' ' 23.\\\\n\\\\n'\n",
      "'Given the input numbers 80 and 55, the answer is' ' 135.\\\\n\\\\n'\n",
      "'Given the input numbers 45 and 39, the answer is' ' 84.\\\\n\\\\n'\n",
      "'Given the input numbers 0 and 81, the answer is' ' 81.\\\\n\\\\n'\n",
      "'Given the input numbers 26 and 58, the answer is' ' 84.\\\\n\\\\n'\n"
     ]
    }
   ],
   "source": [
    "input_strings, output_strings = get_add_two_dataset()\n",
    "for i in range(5):\n",
    "    print(repr(input_strings[i]), repr(output_strings[i]))"
   ]
  },
  {
   "cell_type": "code",
   "execution_count": 44,
   "metadata": {},
   "outputs": [
    {
     "name": "stdout",
     "output_type": "stream",
     "text": [
      "start_word_id = tensor([1169])\n",
      "preprefix: ''\n",
      "Training with 197 possible answers / random acc 0.5% / majority acc 1.1%\n"
     ]
    },
    {
     "name": "stderr",
     "output_type": "stream",
     "text": [
      "  0%|          | 0/20 [00:00<?, ?it/s]"
     ]
    },
    {
     "name": "stdout",
     "output_type": "stream",
     "text": [
      ">> Data:\\n\\nGiven the input numbers 14 and 56, the answer is 70.\\n\\n\\n\\nPrompt: The\n",
      ">> Data:\\n\\nGiven the input numbers 14 and 56, the answer is 70.\\n\\n\\n\\nPrompt: how\n",
      ">> Data:\\n\\nGiven the input numbers 98 and 10, the answer is 108.\\n\\n\\n\\nPrompt: 1\n",
      ">> Data:\\n\\nGiven the input numbers 98 and 10, the answer is 108.\\n\\n\\n\\nPrompt: Write\n",
      ">> Data:\\n\\nGiven the input numbers 98 and 10, the answer is 108.\\n\\n\\n\\nPrompt: Enter\n",
      ">> Data:\\n\\nGiven the input numbers 14 and 56, the answer is 70.\\n\\n\\n\\nPrompt: This\n",
      ">> Data:\\n\\nGiven the input numbers 98 and 10, the answer is 108.\\n\\n\\n\\nPrompt: \\\n",
      ">> Data:\\n\\nGiven the input numbers 98 and 10, the answer is 108.\\n\\n\\n\\nPrompt: Number\n",
      "                                              ******************** Population ********************\n",
      "                                                                1 \t\t 10000.000 \t\t 0.0\n",
      "                                                              The \t\t 10000.000 \t\t 0.0\n",
      "                                                              how \t\t 10000.000 \t\t 0.0\n",
      "                                                             This \t\t 10000.000 \t\t 0.0\n",
      "                                                                \\ \t\t 10000.000 \t\t 0.0\n",
      "                                                            Enter \t\t 10000.000 \t\t 0.0\n",
      "                                                           Number \t\t 10000.000 \t\t 0.0\n",
      "                                                            Write \t\t 10000.000 \t\t 0.0\n",
      "                                                              The \t\t 10000.000 \t\t 0.0\n",
      "                                                                \\ \t\t 10000.000 \t\t 0.0\n",
      "\n",
      "population_pool: [' 1', ' The', ' how', ' This', ' \\\\', ' Enter', ' Number', ' Write', ' The', ' Enter', ' \\\\', ' The']\n",
      ">> Data:\\n\\nGiven the input numbers 98 and 10, the answer is 108.\\n\\n\\n\\nPrompt: \\\n",
      ">> Data:\\n\\nGiven the input numbers 14 and 56, the answer is 70.\\n\\n\\n\\nPrompt: When\n"
     ]
    }
   ],
   "source": [
    "out = explain_dataset_iprompt(\n",
    "    input_strings=input_strings,\n",
    "    output_strings=output_strings,\n",
    "    checkpoint='gpt2-medium',\n",
    ")"
   ]
  }
 ],
 "metadata": {
  "kernelspec": {
   "display_name": "Python 3.8.10 ('.embgam')",
   "language": "python",
   "name": "python3"
  },
  "language_info": {
   "codemirror_mode": {
    "name": "ipython",
    "version": 3
   },
   "file_extension": ".py",
   "mimetype": "text/x-python",
   "name": "python",
   "nbconvert_exporter": "python",
   "pygments_lexer": "ipython3",
   "version": "3.8.10"
  },
  "orig_nbformat": 4,
  "vscode": {
   "interpreter": {
    "hash": "559535f78d940c882783b39501b2581b5193373045707e5f8a51d046029cfd38"
   }
  }
 },
 "nbformat": 4,
 "nbformat_minor": 2
}
