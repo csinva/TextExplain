{
 "cells": [
  {
   "cell_type": "code",
   "execution_count": 1,
   "metadata": {},
   "outputs": [
    {
     "name": "stderr",
     "output_type": "stream",
     "text": [
      "2022-07-08 18:06:59.952910: W tensorflow/stream_executor/platform/default/dso_loader.cc:64] Could not load dynamic library 'libcudart.so.11.0'; dlerror: libcudart.so.11.0: cannot open shared object file: No such file or directory\n",
      "2022-07-08 18:06:59.952947: I tensorflow/stream_executor/cuda/cudart_stub.cc:29] Ignore above cudart dlerror if you do not have a GPU set up on your machine.\n",
      "/accounts/projects/vision/.local/lib/python3.8/site-packages/torch/cuda/__init__.py:52: UserWarning: CUDA initialization: Found no NVIDIA driver on your system. Please check that you have an NVIDIA GPU and installed a driver from http://www.nvidia.com/Download/index.aspx (Triggered internally at  /pytorch/c10/cuda/CUDAFunctions.cpp:100.)\n",
      "  return torch._C._cuda_getDeviceCount() > 0\n"
     ]
    }
   ],
   "source": [
    "%load_ext autoreload\n",
    "%autoreload 2\n",
    "from transformers import BertModel, DistilBertModel\n",
    "from transformers import pipeline\n",
    "from transformers import AutoTokenizer, AutoModelForSequenceClassification\n",
    "from sklearn.feature_extraction.text import CountVectorizer, TfidfVectorizer\n",
    "import datasets\n",
    "import numpy as np\n",
    "import os.path\n",
    "from spacy.lang.en import English\n",
    "from datasets import load_from_disk\n",
    "import pickle as pkl\n",
    "from sklearn.linear_model import LogisticRegressionCV\n",
    "from collections import defaultdict\n",
    "from copy import deepcopy\n",
    "from tqdm import tqdm\n",
    "import dvu\n",
    "dvu.set_style()\n",
    "import pandas as pd\n",
    "from os.path import join as oj\n",
    "import string\n",
    "from typing import List\n",
    "import data\n",
    "import matplotlib.pyplot as plt\n",
    "import seaborn as sns\n",
    "import config\n",
    "pd.set_option('display.max_rows', None)"
   ]
  },
  {
   "cell_type": "markdown",
   "metadata": {},
   "source": [
    "Compute embeddings for sst2 using bert finetuned model."
   ]
  },
  {
   "cell_type": "code",
   "execution_count": 32,
   "metadata": {},
   "outputs": [
    {
     "name": "stderr",
     "output_type": "stream",
     "text": [
      "Using custom data configuration default\n",
      "Reusing dataset sst2 (/tmp/.xdg_cache_vision/huggingface/datasets/sst2/default/2.0.0/9896208a8d85db057ac50c72282bcb8fe755accc671a57dd8059d4e130961ed5)\n"
     ]
    },
    {
     "data": {
      "application/vnd.jupyter.widget-view+json": {
       "model_id": "c04cbdb94cc1457593cc2e9be8a493ae",
       "version_major": 2,
       "version_minor": 0
      },
      "text/plain": [
       "  0%|          | 0/3 [00:00<?, ?it/s]"
      ]
     },
     "metadata": {},
     "output_type": "display_data"
    },
    {
     "name": "stderr",
     "output_type": "stream",
     "text": [
      "/accounts/projects/vision/.local/lib/python3.8/site-packages/sklearn/feature_extraction/text.py:489: UserWarning: The parameter 'token_pattern' will not be used since 'tokenizer' is not None'\n",
      "  warnings.warn(\"The parameter 'token_pattern' will not be used\"\n"
     ]
    }
   ],
   "source": [
    "class A:\n",
    "    checkpoint = 'textattack/bert-base-uncased-SST-2'\n",
    "    dataset = 'sst2'\n",
    "    padding = True\n",
    "args = A()\n",
    "\n",
    "# data\n",
    "dataset, args = data.process_data_and_args(args)\n",
    "\n",
    "# countvectorizer\n",
    "tok_simp = English().tokenizer\n",
    "tokenizer_func = lambda x: [str(x) for x in tok_simp(x)] \n",
    "v = CountVectorizer(tokenizer=tokenizer_func)\n",
    "v.fit(dataset['train']['sentence'])\n",
    "words = sorted(list(v.vocabulary_.keys()))\n",
    "\n",
    "\"\"\"Note that vocab is already based on words being sorted\n",
    "remap_idxs = {\n",
    "    i: v.vocabulary_[k] for i, k in enumerate(words)\n",
    "}\n",
    "for i in range(len(remap_idxs)):\n",
    "    assert remap_idxs[i] == i\n",
    "\"\"\"\n",
    "\n",
    "# set up model\n",
    "def get_embs(texts: List[str]):\n",
    "    tokenizer = AutoTokenizer.from_pretrained(args.checkpoint) # for actually passing things to the model\n",
    "    model = BertModel.from_pretrained(args.checkpoint)\n",
    "\n",
    "    tokens = tokenizer(texts, padding=args.padding, truncation=True, return_tensors=\"pt\")\n",
    "    output = model(**tokens) # this takes a while....\n",
    "    embs = output['pooler_output'].cpu().detach().numpy()\n",
    "    return embs"
   ]
  },
  {
   "cell_type": "markdown",
   "metadata": {},
   "source": [
    "# look at unigrams"
   ]
  },
  {
   "cell_type": "code",
   "execution_count": null,
   "metadata": {},
   "outputs": [],
   "source": [
    "embs = pkl.load(open(oj(config.misc_dir, 'word_embs_sst_train.pkl'), 'rb'))\n",
    "\n",
    "# countvec coefs\n",
    "matrix = v.transform(dataset['train']['sentence'])\n",
    "tot_counts = pd.DataFrame(matrix.sum(axis=0), columns=v.get_feature_names())\n",
    "m = LogisticRegressionCV()\n",
    "m.fit(matrix, dataset['train']['label'])\n",
    "coef = m.coef_.flatten() # note -- coef has not been mapped to same idxs as words\n",
    "\n",
    "# make df\n",
    "df = pd.DataFrame.from_dict({\n",
    "    'coef': coef,\n",
    "    'tot_counts': tot_counts.values.squeeze(),\n",
    "    'unigram': words,\n",
    "})\n",
    "# df.to_csv(oj(config.misc_dir, 'df_unigram_sst.csv'))"
   ]
  },
  {
   "cell_type": "code",
   "execution_count": 3,
   "metadata": {},
   "outputs": [],
   "source": [
    "df = pd.read_csv(oj(config.misc_dir, 'df_unigram_sst.csv'), index_col=0)"
   ]
  },
  {
   "cell_type": "markdown",
   "metadata": {},
   "source": [
    "### compute unigram embeddings"
   ]
  },
  {
   "cell_type": "code",
   "execution_count": 39,
   "metadata": {},
   "outputs": [],
   "source": [
    "embs = get_embs(words)\n",
    "pkl.dump(embs, open(oj(config.misc_dir, 'word_embs_sst_train.pkl'), 'wb'))\n",
    "pkl.dump(words, open(oj(config.misc_dir, 'word_list_sst_train.pkl'), 'wb'))"
   ]
  },
  {
   "cell_type": "code",
   "execution_count": 274,
   "metadata": {},
   "outputs": [],
   "source": [
    "def get_idxs(unigrams, tot_counts, coef, percentile=99.5):\n",
    "    idxs_punc = np.array(list(map(lambda s: all(c.isdigit() or c in string.punctuation for c in s),\n",
    "                  unigrams)))\n",
    "    idxs_count_large = tot_counts > np.percentile(tot_counts, percentile)\n",
    "\n",
    "    cs = np.abs(coef).flatten()\n",
    "    idxs_pred = cs >= np.percentile(cs, percentile)\n",
    "\n",
    "    idxs = (idxs_pred | idxs_count_large) & ~is_punc\n",
    "    return idxs\n",
    "\n",
    "\n",
    "idxs = get_idxs(df['unigram'], df['tot_counts'].values, df['coef'].values, percentile=99.5)\n",
    "es = pd.DataFrame(embs[idxs].T, columns=df['unigram'].values[idxs])\n",
    "sims = es.corr()"
   ]
  },
  {
   "cell_type": "code",
   "execution_count": null,
   "metadata": {},
   "outputs": [],
   "source": [
    "# def coef_colors(coef):\n",
    "#     if coef >= 0:\n",
    "#         return 'green'\n",
    "#     else:\n",
    "#         return 'purple'\n",
    "\n",
    "plt.figure(figsize=(12, 12))\n",
    "vabs = np.max(np.abs(sims))\n",
    "cm = sns.diverging_palette(10, 240, as_cmap=True)\n",
    "cg = sns.clustermap(sims, cmap=cm, center=0.0, dendrogram_ratio=0.01,\n",
    "                    cbar_pos=(0.7, 0.7, 0.05, 0.15),\n",
    "                    cbar_kws={'label': 'Correlation'},\n",
    "#                     row_colors=list(map(coef_colors, coef[idxs])),\n",
    "#                     row_colors=list(map(cm, m.coef_.flatten()[idxs])),                    \n",
    "#                     row_colors=list(map(cm, np.log(tot_counts[idxs]) / max(np.log(tot_counts[idxs])))),                      \n",
    "#                     yticklabels=3 # how often to plot yticklabels\n",
    ")\n",
    "\n",
    "cg.ax_row_dendrogram.set_visible(False)\n",
    "cg.ax_col_dendrogram.set_visible(False)\n",
    "\n",
    "# mask\n",
    "mask = np.triu(np.ones_like(sims))\n",
    "values = cg.ax_heatmap.collections[0].get_array().reshape(sims.shape)\n",
    "new_values = np.ma.array(values, mask=mask)\n",
    "cg.ax_heatmap.collections[0].set_array(new_values)\n",
    "cg.ax_heatmap.yaxis.set_ticks_position(\"left\")\n",
    "\n",
    "\n",
    "xaxis = cg.ax_heatmap.get_xaxis()\n",
    "xticklabels = xaxis.get_majorticklabels()\n",
    "# plt.tight_layout()\n",
    "cg.savefig('results/unigrams_sim.pdf')\n",
    "# plt.tight_layout()"
   ]
  },
  {
   "cell_type": "markdown",
   "metadata": {},
   "source": [
    "# bigram analysis\n",
    "\n",
    "Here we will compare coefs of common bigrams to the sum of the coefs of their unigrams"
   ]
  },
  {
   "cell_type": "markdown",
   "metadata": {},
   "source": [
    "**get bigram coefs**"
   ]
  },
  {
   "cell_type": "code",
   "execution_count": null,
   "metadata": {},
   "outputs": [],
   "source": [
    "v2 = CountVectorizer(tokenizer=tokenizer_func, ngram_range=(2, 2))\n",
    "v2.fit(dataset['train']['sentence'])"
   ]
  },
  {
   "cell_type": "code",
   "execution_count": null,
   "metadata": {},
   "outputs": [],
   "source": [
    "# countvec coefs\n",
    "matrix2 = v2.transform(dataset['train']['sentence'])\n",
    "tot_counts2 = pd.DataFrame(matrix2.sum(axis=0), columns=v2.get_feature_names())\n",
    "m2 = LogisticRegressionCV()\n",
    "m2.fit(matrix2, dataset['train']['label'])\n",
    "coef2 = m2.coef_.flatten() # note -- coef has not been mapped to same idxs as words\n",
    "\n",
    "df2 = pd.DataFrame.from_dict({\n",
    "    'coef': coef2,\n",
    "    'tot_counts': tot_counts2.values.squeeze(),\n",
    "#     'unigram': words,\n",
    "    'bigram': sorted(list(v2.vocabulary_.keys()))\n",
    "})"
   ]
  },
  {
   "cell_type": "code",
   "execution_count": 330,
   "metadata": {},
   "outputs": [],
   "source": [
    "def find_unigram_scores(bigram):\n",
    "    unigram1, unigram2 = bigram.split(' ')\n",
    "    unigram1_score = df.loc[df['unigram'] == unigram1, 'coef'].iloc[0]\n",
    "    unigram2_score = df.loc[df['unigram'] == unigram2, 'coef'].iloc[0]\n",
    "    return unigram1, unigram2, unigram1_score, unigram2_score\n",
    "\n",
    "out = list(zip(*df2['bigram'].map(find_unigram_scores)))\n",
    "for (i, c) in enumerate(['unigram1', 'unigram2', 'coef1', 'coef2']):\n",
    "    df2[c] = out[i]\n"
   ]
  },
  {
   "cell_type": "markdown",
   "metadata": {},
   "source": [
    "**get bigram embeddings**"
   ]
  },
  {
   "cell_type": "code",
   "execution_count": 53,
   "metadata": {},
   "outputs": [],
   "source": [
    "df2 = pd.read_csv(oj(config.misc_dir, 'df_bigram_sst.csv'), index_col=0)\n",
    "df2['interaction_score'] = abs(df2['coef'] - (df2['coef1'] + df2['coef2']))\n",
    "df2 = df2[['bigram', 'interaction_score', 'tot_counts', # reordering\n",
    "           'coef', 'coef1', 'coef2', 'unigram1', 'unigram2', ]]\n",
    "# df2.to_csv(oj(config.misc_dir, 'df_bigram_sst.csv'))"
   ]
  },
  {
   "cell_type": "markdown",
   "metadata": {},
   "source": [
    "**here we can just see which bigrams interact the most** \n",
    "(Nothing to do with embeddings yet)"
   ]
  },
  {
   "cell_type": "code",
   "execution_count": 80,
   "metadata": {},
   "outputs": [],
   "source": [
    "d = df2.sort_values('interaction_score', ascending=False).round(2)\n",
    "d = d[d.tot_counts > 2]\n",
    "d = d.head(200)"
   ]
  },
  {
   "cell_type": "code",
   "execution_count": 85,
   "metadata": {},
   "outputs": [
    {
     "name": "stderr",
     "output_type": "stream",
     "text": [
      "Some weights of the model checkpoint at textattack/bert-base-uncased-SST-2 were not used when initializing BertModel: ['classifier.weight', 'classifier.bias']\n",
      "- This IS expected if you are initializing BertModel from the checkpoint of a model trained on another task or with another architecture (e.g. initializing a BertForSequenceClassification model from a BertForPreTraining model).\n",
      "- This IS NOT expected if you are initializing BertModel from the checkpoint of a model that you expect to be exactly identical (initializing a BertForSequenceClassification model from a BertForSequenceClassification model).\n"
     ]
    }
   ],
   "source": [
    "bigrams = d['bigram'].values.tolist()\n",
    "embs2 = get_embs(bigrams)\n",
    "\n",
    "pkl.dump(embs2, open(oj(config.misc_dir, 'embs2_sst_top_interactions.pkl'), 'wb'))\n",
    "pkl.dump(bigrams, open(oj(config.misc_dir, 'word_list_sst_top_interactions.pkl'), 'wb'))\n",
    "pkl.dump(d, open(oj(config.misc_dir, 'top_interacting_words_df2.pkl'), 'wb'))"
   ]
  },
  {
   "cell_type": "markdown",
   "metadata": {},
   "source": [
    "# let's compare bert coefs"
   ]
  },
  {
   "cell_type": "code",
   "execution_count": 86,
   "metadata": {},
   "outputs": [],
   "source": [
    "df = pd.read_csv(oj(config.misc_dir, 'df_unigram_sst.csv'), index_col=0)\n",
    "df2 = pd.read_csv(oj(config.misc_dir, 'df_bigram_sst.csv'), index_col=0)\n",
    "d = pkl.load(open(oj(config.misc_dir, 'top_interacting_words_df2.pkl'), 'rb'))\n",
    "\n",
    "embs = pkl.load(open(oj(config.misc_dir, 'word_embs_sst_train.pkl'), 'rb'))\n",
    "embs2 = pkl.load(open(oj(config.misc_dir, 'embs2_sst_top_interactions.pkl'), 'rb'))"
   ]
  },
  {
   "cell_type": "code",
   "execution_count": 87,
   "metadata": {},
   "outputs": [
    {
     "name": "stderr",
     "output_type": "stream",
     "text": [
      "100%|██████████| 14/14 [00:00<00:00, 1057.18it/s]\n"
     ]
    }
   ],
   "source": [
    "r = data.load_fitted_results(fname_filters=['bert-base', 'sub=-1'],\n",
    "                             dset_filters=['sst2'],\n",
    "                             drop_model=False)\n",
    "row = r[(r.checkpoint == 'textattack/bert-base-uncased-SST-2') & (r.ngrams == 2)].iloc[0]\n",
    "logistic = row.model\n",
    "coef_bert = logistic.coef_.squeeze()"
   ]
  },
  {
   "cell_type": "code",
   "execution_count": 88,
   "metadata": {},
   "outputs": [],
   "source": [
    "d['bert_coef_bigram'] = embs2 @ coef_bert\n",
    "df['bert_coef_unigram'] = embs @ coef_bert # used for looking-up\n",
    "\n",
    "def find_unigram_scores(unigram):\n",
    "    return df.loc[df['unigram'] == unigram, 'bert_coef_unigram'].iloc[0]\n",
    "d['bert_coef_unigram1'] = d['unigram1'].apply(find_unigram_scores)\n",
    "d['bert_coef_unigram2'] = d['unigram2'].apply(find_unigram_scores)"
   ]
  },
  {
   "cell_type": "code",
   "execution_count": 89,
   "metadata": {},
   "outputs": [
    {
     "data": {
      "text/html": [
       "<div>\n",
       "<style scoped>\n",
       "    .dataframe tbody tr th:only-of-type {\n",
       "        vertical-align: middle;\n",
       "    }\n",
       "\n",
       "    .dataframe tbody tr th {\n",
       "        vertical-align: top;\n",
       "    }\n",
       "\n",
       "    .dataframe thead th {\n",
       "        text-align: right;\n",
       "    }\n",
       "</style>\n",
       "<table border=\"1\" class=\"dataframe\">\n",
       "  <thead>\n",
       "    <tr style=\"text-align: right;\">\n",
       "      <th></th>\n",
       "      <th>bigram</th>\n",
       "      <th>interaction_score</th>\n",
       "      <th>tot_counts</th>\n",
       "      <th>coef</th>\n",
       "      <th>coef1</th>\n",
       "      <th>coef2</th>\n",
       "      <th>unigram1</th>\n",
       "      <th>unigram2</th>\n",
       "      <th>bert_coef_bigram</th>\n",
       "      <th>bert_coef_unigram1</th>\n",
       "      <th>bert_coef_unigram2</th>\n",
       "    </tr>\n",
       "  </thead>\n",
       "  <tbody>\n",
       "    <tr>\n",
       "      <th>44950</th>\n",
       "      <td>not bad</td>\n",
       "      <td>13.25</td>\n",
       "      <td>7</td>\n",
       "      <td>6.44</td>\n",
       "      <td>-3.19</td>\n",
       "      <td>-3.62</td>\n",
       "      <td>not</td>\n",
       "      <td>bad</td>\n",
       "      <td>0.347631</td>\n",
       "      <td>-0.351654</td>\n",
       "      <td>-0.801170</td>\n",
       "    </tr>\n",
       "    <tr>\n",
       "      <th>57713</th>\n",
       "      <td>spielberg calls</td>\n",
       "      <td>13.05</td>\n",
       "      <td>7</td>\n",
       "      <td>0.08</td>\n",
       "      <td>3.82</td>\n",
       "      <td>9.31</td>\n",
       "      <td>spielberg</td>\n",
       "      <td>calls</td>\n",
       "      <td>-0.192839</td>\n",
       "      <td>0.358623</td>\n",
       "      <td>-0.767201</td>\n",
       "    </tr>\n",
       "    <tr>\n",
       "      <th>43880</th>\n",
       "      <td>n't lost</td>\n",
       "      <td>13.02</td>\n",
       "      <td>14</td>\n",
       "      <td>4.86</td>\n",
       "      <td>-3.63</td>\n",
       "      <td>-4.53</td>\n",
       "      <td>n't</td>\n",
       "      <td>lost</td>\n",
       "      <td>0.506353</td>\n",
       "      <td>-0.400545</td>\n",
       "      <td>-0.896784</td>\n",
       "    </tr>\n",
       "    <tr>\n",
       "      <th>44408</th>\n",
       "      <td>never lacks</td>\n",
       "      <td>12.72</td>\n",
       "      <td>4</td>\n",
       "      <td>4.27</td>\n",
       "      <td>-1.10</td>\n",
       "      <td>-7.36</td>\n",
       "      <td>never</td>\n",
       "      <td>lacks</td>\n",
       "      <td>0.790974</td>\n",
       "      <td>-0.315804</td>\n",
       "      <td>-1.295606</td>\n",
       "    </tr>\n",
       "    <tr>\n",
       "      <th>34889</th>\n",
       "      <td>incoherent mess</td>\n",
       "      <td>12.48</td>\n",
       "      <td>3</td>\n",
       "      <td>-0.56</td>\n",
       "      <td>-3.90</td>\n",
       "      <td>-9.14</td>\n",
       "      <td>incoherent</td>\n",
       "      <td>mess</td>\n",
       "      <td>-1.099683</td>\n",
       "      <td>-0.856689</td>\n",
       "      <td>-1.124526</td>\n",
       "    </tr>\n",
       "  </tbody>\n",
       "</table>\n",
       "</div>"
      ],
      "text/plain": [
       "                bigram  interaction_score  tot_counts  coef  coef1  coef2  \\\n",
       "44950          not bad              13.25           7  6.44  -3.19  -3.62   \n",
       "57713  spielberg calls              13.05           7  0.08   3.82   9.31   \n",
       "43880         n't lost              13.02          14  4.86  -3.63  -4.53   \n",
       "44408      never lacks              12.72           4  4.27  -1.10  -7.36   \n",
       "34889  incoherent mess              12.48           3 -0.56  -3.90  -9.14   \n",
       "\n",
       "         unigram1 unigram2  bert_coef_bigram  bert_coef_unigram1  \\\n",
       "44950         not      bad          0.347631           -0.351654   \n",
       "57713   spielberg    calls         -0.192839            0.358623   \n",
       "43880         n't     lost          0.506353           -0.400545   \n",
       "44408       never    lacks          0.790974           -0.315804   \n",
       "34889  incoherent     mess         -1.099683           -0.856689   \n",
       "\n",
       "       bert_coef_unigram2  \n",
       "44950           -0.801170  \n",
       "57713           -0.767201  \n",
       "43880           -0.896784  \n",
       "44408           -1.295606  \n",
       "34889           -1.124526  "
      ]
     },
     "execution_count": 89,
     "metadata": {},
     "output_type": "execute_result"
    }
   ],
   "source": [
    "d.head()"
   ]
  },
  {
   "cell_type": "code",
   "execution_count": 104,
   "metadata": {},
   "outputs": [
    {
     "data": {
      "image/png": "[encoded data removed]",
      "text/plain": [
       "<Figure size 432x864 with 1 Axes>"
      ]
     },
     "metadata": {
      "needs_background": "light"
     },
     "output_type": "display_data"
    }
   ],
   "source": [
    "plt.figure(figsize=(6, 12))\n",
    "idxs = np.arange(20)\n",
    "dp = d.iloc[idxs]\n",
    "plt.barh(idxs, dp['coef'], height=0.3)\n",
    "plt.barh(idxs + 0.3, dp['coef1'], height=0.3)\n",
    "plt.barh(idxs + 0.6, dp['coef2'], height=0.3)\n",
    "plt.yticks(idxs, dp['bigram'])\n",
    "plt.show()"
   ]
  },
  {
   "cell_type": "markdown",
   "metadata": {},
   "source": [
    "**bert coefs are similar to bigram coefs**"
   ]
  },
  {
   "cell_type": "code",
   "execution_count": 108,
   "metadata": {},
   "outputs": [
    {
     "data": {
      "image/png": "[encoded data removed]",
      "text/plain": [
       "<Figure size 864x288 with 3 Axes>"
      ]
     },
     "metadata": {
      "needs_background": "light"
     },
     "output_type": "display_data"
    }
   ],
   "source": [
    "R, C = 1, 3\n",
    "# fig, axes = plt.subplots(R, C)\n",
    "# .lmplot(x='coef', y='bert_coef_bigram', data=d, ax=axes[0])\n",
    "plt.figure(figsize=(12, 4))\n",
    "plt.subplot(R, C, 1)\n",
    "plt.plot(d['coef'], d['bert_coef_bigram'], '.')\n",
    "plt.xlabel('BOW Bigram Coef')\n",
    "plt.ylabel('BERT Bigram Coef')\n",
    "\n",
    "plt.subplot(R, C, 2)\n",
    "plt.plot(d['coef1'], d['bert_coef_unigram1'], '.')\n",
    "plt.xlabel('BOW Unigram1 Coef')\n",
    "plt.ylabel('BERT Unigram1 Coef')\n",
    "\n",
    "plt.subplot(R, C, 3)\n",
    "plt.plot(d['coef2'], d['bert_coef_unigram2'], '.')\n",
    "plt.xlabel('BOW Unigram2 Coef')\n",
    "plt.ylabel('BERT Unigram2 Coef')\n",
    "plt.tight_layout()\n",
    "plt.savefig('results/bert_bow_coef_compare.pdf')\n",
    "plt.show()"
   ]
  },
  {
   "cell_type": "code",
   "execution_count": 91,
   "metadata": {},
   "outputs": [
    {
     "data": {
      "text/plain": [
       "[<matplotlib.lines.Line2D at 0x7f56168e6310>]"
      ]
     },
     "execution_count": 91,
     "metadata": {},
     "output_type": "execute_result"
    },
    {
     "data": {
      "image/png": "[encoded data removed]",
      "text/plain": [
       "<Figure size 432x288 with 1 Axes>"
      ]
     },
     "metadata": {
      "needs_background": "light"
     },
     "output_type": "display_data"
    }
   ],
   "source": [
    "plt.plot(d['bert_coef_unigram1'] + d['bert_coef_unigram2'], d['bert_coef_bigram'], '.')"
   ]
  },
  {
   "cell_type": "code",
   "execution_count": null,
   "metadata": {},
   "outputs": [],
   "source": []
  }
 ],
 "metadata": {
  "kernelspec": {
   "display_name": "Python 3",
   "language": "python",
   "name": "python3"
  },
  "language_info": {
   "codemirror_mode": {
    "name": "ipython",
    "version": 3
   },
   "file_extension": ".py",
   "mimetype": "text/x-python",
   "name": "python",
   "nbconvert_exporter": "python",
   "pygments_lexer": "ipython3",
   "version": "3.8.3"
  }
 },
 "nbformat": 4,
 "nbformat_minor": 4
}
